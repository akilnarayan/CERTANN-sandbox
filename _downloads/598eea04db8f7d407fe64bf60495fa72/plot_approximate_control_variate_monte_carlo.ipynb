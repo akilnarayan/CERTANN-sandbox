{
  "cells": [
    {
      "cell_type": "markdown",
      "metadata": {},
      "source": [
        "Add latex macros$$\\newcommand{\\V}[1]{{\\boldsymbol{#1}}}\\newcommand{mean}[1]{{\\mathbb{E}\\left[#1\\right]}}\\newcommand{var}[1]{{\\mathbb{V}\\left[#1\\right]}}\\newcommand{covar}[2]{\\mathbb{C}\\text{ov}\\left[#1,#2\\right]}\\newcommand{corr}[2]{\\mathbb{C}\\text{or}\\left[#1,#2\\right]}\\newcommand{argmin}{\\mathrm{argmin}}\\def\\rv{z}\\def\\reals{\\mathbb{R}}\\def\\pdf{\\rho}\\def\\rvdom{\\Gamma}\\def\\coloneqq{\\colon=}\\newcommand{norm}{\\lVert #1 \\rVert}\\def\\argmax{\\operatorname{argmax}}\\def\\ai{\\alpha}\\def\\bi{\\beta}\\newcommand{\\dx}[1]{\\;\\mathrm{d}#1}$$"
      ]
    },
    {
      "cell_type": "code",
      "execution_count": null,
      "metadata": {
        "collapsed": false
      },
      "outputs": [],
      "source": [
        "%matplotlib inline"
      ]
    },
    {
      "cell_type": "markdown",
      "metadata": {},
      "source": [
        "\n# Approximate Control Variate Monte Carlo\nThis tutorial builds upon `sphx_glr_auto_tutorials_multi_fidelity_plot_control_variate_monte_carlo.py` and describes how to implement and deploy *approximate* control variate Monte Carlo (ACVMC) sampling to compute expectations of model output from multiple low-fidelity models with unknown means.\n\nCVMC is often not useful for practical analysis of numerical models because typically the mean of the lower fidelity model, i.e. $\\mu_\\V{\\kappa}$, is unknown and the cost of the lower fidelity model is non trivial. These two issues can be overcome by using approximate control variate Monte Carlo.\n\nLet the cost of the high fidelity model per sample be $C_\\alpha$ and let the cost of the low fidelity model be $C_\\kappa$. Now lets use $N$ samples to estimate $Q_{\\V{\\alpha},N}$ and $Q_{\\V{\\kappa},N}$ and these  $N$ samples plus another $(r-1)N$ samples to estimate $\\mu_{\\V{\\kappa}}$ so that\n\n\\begin{align}Q_{\\V{\\alpha},N,r}^{\\text{ACV}}=Q_{\\V{\\alpha},N} + \\eta \\left( Q_{\\V{\\kappa},N} - \\mu_{\\V{\\kappa},N,r} \\right)\\end{align}\n\nand\n\n\\begin{align}\\mu_{\\V{\\kappa},N,r}=\\frac{1}{rN}\\sum_{i=1}^{rN}Q_\\V{\\kappa}\\end{align}\n\nWith this sampling scheme we have\n\n\\begin{align}Q_{\\V{\\kappa},N} - \\mu_{\\V{\\kappa},N,r}&=\\frac{1}{N}\\sum_{i=1}^N f_\\V{\\kappa}^{(i)}-\\frac{1}{rN}\\sum_{i=1}^{rN}f_\\V{\\kappa}^{(i)}\\\\\n  &=\\frac{1}{N}\\sum_{i=1}^N f_\\V{\\kappa}^{(i)}-\\frac{1}{rN}\\sum_{i=1}^{N}f_\\V{\\kappa}^{(i)}-\\frac{1}{rN}\\sum_{i=N}^{rN}f_\\V{\\kappa}^{(i)}\\\\\n  &=\\frac{r-1}{rN}\\sum_{i=1}^N f_\\V{\\kappa}^{(i)}-\\frac{1}{rN}\\sum_{i=N}^{rN}f_\\V{\\kappa}^{(i)}\\\\\\end{align}\n\nwhere for ease of notation we write $r_\\V{\\kappa}N$ and $\\lfloor r_\\V{\\kappa}N\\rfloor$ interchangibly.\nUsing the above expression yields\n\n\\begin{align}\\var{\\left( Q_{\\V{\\kappa},N} - \\mu_{\\V{\\kappa},N,r}\\right)}&=\\mean{\\left(\\frac{r-1}{rN}\\sum_{i=1}^N f_\\V{\\kappa}^{(i)}-\\frac{1}{rN}\\sum_{i=N}^{rN}f_\\V{\\kappa}^{(i)}\\right)^2}\\\\\n  &=\\frac{(r-1)^2}{r^2N^2}\\sum_{i=1}^N \\var{f_\\V{\\kappa}^{(i)}}+\\frac{1}{r^2N^2}\\sum_{i=N}^{rN}\\var{f_\\V{\\kappa}^{(i)}}\\\\\n  &=\\frac{(r-1)^2}{r^2N^2}N\\var{f_\\V{\\kappa}}+\\frac{1}{r^2N^2}(r-1)N\\var{f_\\V{\\kappa}}\\\\\n  %&=\\left(\\frac{(r-1)^2}{r^2N}+\\frac{(r-1)}{r^2N}\\right)\\var{f_\\V{\\kappa}}\\\\\n  &=\\frac{r-1}{r}\\frac{\\var{f_\\V{\\kappa}}}{N}\\end{align}\n\nwhere we have used the fact that since the samples used in the first and second term on the first line are not shared, the covariance between these terms is zero. Also we have\n\n\\begin{align}\\covar{Q_{\\V{\\alpha},N}}{\\left( Q_{\\V{\\kappa},N} - \\mu_{\\V{\\kappa},N,r}\\right)}=\\covar{\\frac{1}{N}\\sum_{i=1}^N f_\\V{\\alpha}^{(i)}}{\\frac{r-1}{rN}\\sum_{i=1}^N f_\\V{\\kappa}^{(i)}-\\frac{1}{rN}\\sum_{i=N}^{rN}f_\\V{\\kappa}^{(i)}}\\end{align}\n\nThe correlation between the estimators $\\frac{1}{N}\\sum_{i=1}^{N}Q_\\V{\\alpha}$ and $\\frac{1}{rN}\\sum_{i=N}^{rN}Q_\\V{\\kappa}$ is zero because the samples used in these estimators are different for each model. Thus\n\n\\begin{align}\\covar{Q_{\\V{\\alpha},N}}{\\left( Q_{\\V{\\kappa},N} - \\mu_{\\V{\\kappa},N,r}\\right)} &=\\covar{\\frac{1}{N}\\sum_{i=1}^N f_\\V{\\alpha}^{(i)}}{\\frac{r-1}{rN}\\sum_{i=1}^N f_\\V{\\kappa}^{(i)}}\\\\\n  &=\\frac{r-1}{r}\\frac{\\covar{f_\\V{\\alpha}}{f_\\V{\\kappa}}}{N}\\end{align}\n\nRecalling the variance reduction of the CV estimator using the optimal $\\eta$ is\n\n\\begin{align}\\gamma &= 1-\\frac{\\covar{Q_{\\V{\\alpha},N}}{\\left( Q_{\\V{\\kappa},N} - \\mu_{ \\V{\\kappa},N,r}\\right)}^2}{\\var{\\left( Q_{\\V{\\kappa},N} - \\mu_{\\V{\\kappa},N,r}\\right)}\\var{Q_{\\V{\\alpha},N}}}\\\\\n   &=1-\\frac{N^{-2}\\frac{(r-1)^2}{r^2}\\covar{f_\\V{\\alpha}}{f_\\V{\\kappa}}}{N^{-1}\\frac{r-1}{r}\\var{f_\\V{\\kappa}}N^{-1}\\var{f_\\V{\\alpha}}}\\\\\n   &=1-\\frac{r-1}{r}\\corr{f_\\V{\\alpha}}{f_\\V{\\kappa}}^2\\end{align}\n\nwhich is found when\n\n\\begin{align}\\eta&=-\\frac{\\covar{Q_{\\V{\\alpha},N}}{\\left( Q_{\\V{\\kappa},N} - \\mu_{\\V{\\kappa},N,r}\\right)}}{\\var{\\left( Q_{\\V{\\kappa},N} - \\mu_{\\V{\\kappa},N,r}\\right)}}\\\\\n  &=-\\frac{N^{-1}\\frac{r-1}{r}\\covar{f_\\V{\\alpha}}{f_\\V{\\kappa}}}{N^{-1}\\frac{r-1}{r}\\var{f_\\V{\\kappa}}}\\\\\n  &=-\\frac{\\covar{f_\\V{\\alpha}}{f_\\V{\\kappa}}}{\\var{f_\\V{\\kappa}}}\\end{align}\n"
      ]
    },
    {
      "cell_type": "markdown",
      "metadata": {},
      "source": [
        "Lets setup the problem and compute an ACV estimate of $\\mean{f_0}$\n\n"
      ]
    },
    {
      "cell_type": "code",
      "execution_count": null,
      "metadata": {
        "collapsed": false
      },
      "outputs": [],
      "source": [
        "import numpy as np\nimport matplotlib.pyplot as plt\n\nfrom pyapprox.benchmarks import setup_benchmark\n\nnp.random.seed(1)\nshifts = [.1, .2]\nbenchmark = setup_benchmark(\n    \"tunable_model_ensemble\", theta1=np.pi/2*.95, shifts=shifts)\nmodel = benchmark.fun\nexact_integral_f0 = benchmark.means[0]"
      ]
    },
    {
      "cell_type": "markdown",
      "metadata": {},
      "source": [
        "Before proceeding to estimate the mean using ACVMV we must first define how to generate samples to estimate $Q_{\\V{\\alpha},N}$ and $\\mu_{\\V{\\kappa},N,r}$. To do so clearly we must first introduce some additional notation. Let $\\mathcal{Z}_0$ be the set of samples used to evaluate the high-fidelity model and let $\\mathcal{Z}_\\alpha=\\mathcal{Z}_{\\alpha,1}\\cup\\mathcal{Z}_{\\alpha,2}$ be the samples used to evaluate the low fidelity model. Using this notation we can rewrite the ACV estimator as\n\n\\begin{align}Q_{\\V{\\alpha},\\mathcal{Z}}^{\\text{ACV}}=Q_{\\V{\\alpha},\\mathcal{Z}_0} + \\eta \\left( Q_{\\V{\\kappa},\\mathcal{Z}_{\\alpha,1}} - \\mu_{\\V{\\kappa},\\mathcal{Z}_{\\alpha,2}} \\right)\\end{align}\n\nwhere $\\mathcal{Z}=\\bigcup_{\\alpha=0}^M Z_\\alpha$. The nature of these samples can be changed to produce different ACV estimators. Here we choose  $\\mathcal{Z}_{\\alpha,1}\\cap\\mathcal{Z}_{\\alpha,2}=\\emptyset$ and $\\mathcal{Z}_{\\alpha,1}=\\mathcal{Z_0}$. That is we use the set a common set of samples to compute the covariance between all the models and a second independent set to estimate the lower fidelity mean. The sample partitioning for $M$ models is  shown in the following Figure. We call this scheme the ACV IS sampling strategy where IS indicates that the second sample set $\\mathcal{Z}_{\\alpha,2}$ assigned to each model are not shared.\n\n.. list-table::\n\n   * - .. _acv-is-sample-allocation:\n\n       .. figure:: ../../figures/acv_is.png\n          :width: 50%\n          :align: center\n\n          ACV IS sampling strategy\n\nThe following code generates samples according to this strategy\n\n"
      ]
    },
    {
      "cell_type": "code",
      "execution_count": null,
      "metadata": {
        "collapsed": false
      },
      "outputs": [],
      "source": [
        "from pyapprox import multifidelity\nmodel_costs = 10.**(-np.arange(3))\nest = multifidelity.get_estimator(\n    \"acvis\", benchmark.model_covariance[:2, :2], model_costs[:2],\n    benchmark.variable)\nest.nsamples_per_model = np.array([10, 100])\nsamples_per_model, partition_indices_per_model = \\\n    est.generate_sample_allocations()\n\nprint(partition_indices_per_model)\nsamples_shared = samples_per_model[0]\nsamples_lf_only = samples_per_model[1][:, partition_indices_per_model[1] == 1]"
      ]
    },
    {
      "cell_type": "markdown",
      "metadata": {},
      "source": [
        "Now lets plot the samples assigned to each model.\n\n"
      ]
    },
    {
      "cell_type": "code",
      "execution_count": null,
      "metadata": {
        "collapsed": false
      },
      "outputs": [],
      "source": [
        "fig, ax = plt.subplots()\nax.plot(samples_shared[0, :], samples_shared[1, :], 'ro', ms=12,\n        label=r'$\\mathrm{Low\\ and\\  high\\  fidelity\\  models}$')\nax.plot(samples_lf_only[0, :], samples_lf_only[1, :], 'ks',\n        label=r'$\\mathrm{Low\\  fidelity\\  model\\ only}$')\nax.set_xlabel(r'$z_1$')\nax.set_ylabel(r'$z_2$', rotation=0)\n_ = ax.legend(loc='upper left')"
      ]
    },
    {
      "cell_type": "markdown",
      "metadata": {},
      "source": [
        "The high-fidelity model is only evaluated on the red dots. Now lets use these samples to estimate the mean of $f_0$.\n\n"
      ]
    },
    {
      "cell_type": "code",
      "execution_count": null,
      "metadata": {
        "collapsed": false
      },
      "outputs": [],
      "source": [
        "values_per_model = []\nfor ii in range(len(samples_per_model)):\n    values_per_model.append(model.models[ii](samples_per_model[ii]))\n\nacv_mean = est.estimate_from_values_per_model(\n    values_per_model, partition_indices_per_model)\n\nprint('MC difference squared =', (\n    values_per_model[0].mean()-exact_integral_f0)**2)\nprint('ACVMC difference squared =', (acv_mean-exact_integral_f0)**2)"
      ]
    },
    {
      "cell_type": "markdown",
      "metadata": {},
      "source": [
        "Note here we have arbitrarily set the number of high fidelity samples $N$ and the ratio $r$. In practice one should choose these in one of two ways: (i) for a fixed budget choose the free parameters to minimize the variance of the estimator; or (ii) choose the free parameters to achieve a desired MSE (variance) with the smallest computational cost. Note the cost of computing the two model ACV estimator is\n\n\\begin{align}C_\\mathrm{cv} = NC_\\alpha + r_\\V{\\kappa}NC_\\kappa\\end{align}\n\n\n"
      ]
    },
    {
      "cell_type": "markdown",
      "metadata": {},
      "source": [
        "Now lets compute the variance reduction for different sample sizes\n\n"
      ]
    },
    {
      "cell_type": "code",
      "execution_count": null,
      "metadata": {
        "collapsed": false
      },
      "outputs": [],
      "source": [
        "from pyapprox import interface\nmodel_ensemble = interface.ModelEnsemble(model.models[:2])\nnhf_samples = 10\nntrials = 1000\nnsample_ratios = np.array([10])\nnsamples_per_model = np.hstack((1, nsample_ratios))*nhf_samples\ntarget_cost = np.dot(model_costs[:2], nsamples_per_model)\nmeans, numerical_var, true_var = \\\n    multifidelity.estimate_variance(\n        model_ensemble, est, target_cost, ntrials, nsample_ratios)\n\nprint(\"Theoretical ACV variance\", true_var)\nprint(\"Achieved ACV variance\", numerical_var)"
      ]
    },
    {
      "cell_type": "markdown",
      "metadata": {},
      "source": [
        "Let us also plot the distribution of these estimators\n\n"
      ]
    },
    {
      "cell_type": "code",
      "execution_count": null,
      "metadata": {
        "collapsed": false
      },
      "outputs": [],
      "source": [
        "fig, ax = plt.subplots()\nax.hist(means[:, 0], bins=ntrials//100, density=True, alpha=0.5,\n        label=r'$Q_{0, N}$')\nax.hist(means[:, 1], bins=ntrials//100, density=True, alpha=0.5,\n        label=r'$Q_{0, N, %d}^\\mathrm{CV}$' % nsample_ratios[0])\n\nnsample_ratios = np.array([100])\nnsamples_per_model = np.hstack((1, nsample_ratios))*nhf_samples\ntarget_cost = np.dot(model_costs[:2], nsamples_per_model)\nmeans, numerical_var, true_var = \\\n    multifidelity.estimate_variance(\n        model_ensemble, est, target_cost, ntrials, nsample_ratios)\nax.hist(means[:, 1], bins=ntrials//100, density=True, alpha=0.5,\n        label=r'$Q_{0, N, %d}^\\mathrm{CV}$' % nsample_ratios[0])\nax.axvline(x=0, c='k', label=r'$E[Q_0]$')\n_ = ax.legend(loc='upper left')"
      ]
    },
    {
      "cell_type": "markdown",
      "metadata": {},
      "source": [
        "For a fixed number of high-fidelity evaluations $N$ the ACVMC variance reduction will converge to the CVMC variance reduction. Try changing $N$.\n\n"
      ]
    },
    {
      "cell_type": "markdown",
      "metadata": {},
      "source": [
        "## References\n.. [GGEJJCP2020] `A generalized approximate control variate framework for multifidelity uncertainty quantification,  Journal of Computational Physics,  408:109257, 2020. <https://doi.org/10.1016/j.jcp.2020.109257>`_\n\n"
      ]
    }
  ],
  "metadata": {
    "kernelspec": {
      "display_name": "Python 3",
      "language": "python",
      "name": "python3"
    },
    "language_info": {
      "codemirror_mode": {
        "name": "ipython",
        "version": 3
      },
      "file_extension": ".py",
      "mimetype": "text/x-python",
      "name": "python",
      "nbconvert_exporter": "python",
      "pygments_lexer": "ipython3",
      "version": "3.8.11"
    }
  },
  "nbformat": 4,
  "nbformat_minor": 0
}