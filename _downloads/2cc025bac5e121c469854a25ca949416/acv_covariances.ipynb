{
  "cells": [
    {
      "cell_type": "markdown",
      "metadata": {},
      "source": [
        "Add latex macros$$\\newcommand{\\V}[1]{{\\boldsymbol{#1}}}\\newcommand{mean}[1]{{\\mathbb{E}\\left[#1\\right]}}\\newcommand{var}[1]{{\\mathbb{V}\\left[#1\\right]}}\\newcommand{covar}[2]{\\mathbb{C}\\text{ov}\\left[#1,#2\\right]}\\newcommand{corr}[2]{\\mathbb{C}\\text{or}\\left[#1,#2\\right]}\\newcommand{argmin}{\\mathrm{argmin}}\\def\\rv{z}\\def\\reals{\\mathbb{R}}\\def\\rvset{{\\mathcal{Z}}}\\def\\pdf{\\rho}\\def\\rvdom{\\Gamma}\\def\\coloneqq{\\colon=}\\newcommand{norm}{\\lVert #1 \\rVert}\\def\\argmax{\\operatorname{argmax}}\\def\\ai{\\alpha}\\def\\bi{\\beta}\\newcommand{\\dx}[1]{\\;\\text{d}#1}\\newcommand{\\mat}[1]{{\\boldsymbol{\\mathrm{#1}}}}$$"
      ]
    },
    {
      "cell_type": "markdown",
      "metadata": {},
      "source": [
        "\n# Delta-Based Covariance Formulas For Approximate Control Variates\nThe following lists the formula needed to use ACV to compute vector-valued statistics comprised of means, variances or both. The formulas use the expressions for $\\mat{V}, \\mat{W}, \\mat{B}$ in `sphx_glr_auto_tutorials_multi_fidelity_plot_multioutput_monte_carlo.py`.\n\nThese covariancesdepend on how samples are allocated to the sets $\\rvset_\\alpha,\\rvset_\\alpha^*$, which we call the sample allocation $\\mathcal{A}$. Specifically, $\\mathcal{A}$ specifies: the number of samples in the sets $\\rvset_\\alpha,\\rvset_\\alpha^*, \\forall \\alpha$, denoted by $N_\\alpha$ and $N_{\\alpha^*}$, respectively; the number of samples in the intersections of pairs of sets, that is $N_{\\alpha\\cap\\beta} =|\\rvset_\\alpha \\cap \\rvset_\\beta|$, $N_{\\alpha^*\\cap\\beta} =|\\rvset_\\alpha^* \\cap \\rvset_\\beta|$, $N_{\\alpha^*\\cap\\beta^*} =|\\rvset_\\alpha^* \\cap \\rvset_\\beta^*|$; and the number of samples in the union of pairs of sets $N_{\\alpha\\cup\\beta} = |\\rvset_\\alpha\\cup \\rvset_\\beta|$ and similarly $N_{\\alpha^*\\cup\\beta}$, $N_{\\alpha^*\\cup\\beta^*}$.\n\n## Mean\n\\begin{align}\\covar{\\mat{\\Delta}_\\alpha}{\\mat{\\Delta}_\\beta} = F_{\\alpha\\beta}\\covar{f_\\alpha}{f_\\beta}\\in\\reals^{K\\times K}\\end{align}\n\n\n\\begin{align}F_{\\alpha\\beta} = \\frac{N_{\\alpha^*\\cap \\beta^*}}{N_{\\alpha^*}N_{\\beta^*}} - \\frac{N_{\\alpha^*\\cap \\beta}}{N_{\\alpha^*}N_{\\beta}} - \\frac{N_{\\alpha\\cap \\beta^*}}{N_{\\alpha}N_{\\beta^*}} + \\frac{N_{\\alpha\\cap \\beta}}{N_{\\alpha}N_{\\beta}}\\end{align}\n\n\n\\begin{align}\\covar{\\mat{Q}_0}{\\mat{\\Delta}_\\alpha} = G_{\\alpha}\\covar{f_0}{f_\\alpha}\\in\\reals^{K\\times K}\\end{align}\n\n\n\\begin{align}G_{\\alpha} = \\frac{N_{0\\cap \\alpha^*}}{N_{0}N_{\\alpha^*}} -  \\frac{N_{0\\cap \\alpha}}{N_{0}N_{\\alpha}}\\end{align}\n\n\n## Variance\n\n\\begin{align}\\covar{\\mat{\\Delta}_\\alpha}{\\mat{\\Delta}_\\beta} = F_{\\alpha\\beta}\\mat{W}_{\\alpha\\beta}+H_{\\alpha\\beta}\\mat{V}_{\\alpha\\beta}\\in\\reals^{K^2\\times K^2}\\end{align}\n\n\\begin{align}H_{\\alpha\\beta} &= \\frac{N_{\\alpha^*\\cap \\beta^*}(N_{\\alpha^*\\cap \\beta^*}-1)}{N_{\\alpha^*}N_{\\beta^*}(N_{\\alpha^*}-1)(N_{\\beta^*}-1)} - \\frac{N_{\\alpha^*\\cap \\beta}(N_{\\alpha^*\\cap \\beta}-1)}{N_{\\alpha^*}N_{\\beta}(N_{\\alpha^*}-1)(N_{\\beta}-1)} \\\\& \\qquad\\quad- \\frac{N_{\\alpha\\cap \\beta^*}(N_{\\alpha\\cap \\beta^*}-1)}{N_{\\alpha}N_{\\beta^*}(N_{\\alpha}-1)(N_{\\beta^*}-1)}  + \\frac{N_{\\alpha\\cap \\beta}(N_{\\alpha\\cap \\beta}-1)}{N_{\\alpha}N_{\\beta}(N_{\\alpha}-1)(N_{\\beta}-1)}\\end{align}\n\n\\begin{align}\\covar{\\mat{Q}_0}{\\mat{\\Delta}_\\alpha} = J_\\alpha\\mat{V}_{0\\alpha}+G_{\\alpha}\\mat{W}_{0\\alpha}\\in\\reals^{K^2\\times K^2}\\end{align}\n\n\n\\begin{align}J_{\\alpha} = \\frac{N_{0\\cap \\alpha^*}(N_{0\\cap \\alpha^*}-1)}{N_{0}N_{\\alpha^*}(N_{0}-1)(N_{\\alpha^*}-1)} - \\frac{N_{0\\cap \\alpha}(N_{0\\cap \\alpha}-1)}{N_{0}N_{\\alpha}(N_{0}-1)(N_{\\alpha}-1)}\\end{align}\n\n## Mean and Variance\n\n\\begin{align}\\covar{\\mat{\\Delta}_\\alpha}{\\mat{\\Delta}_\\beta}(\\rvset_\\text{ACV}) = \\begin{bmatrix}\\covar{\\Delta^\\mu_\\alpha}{\\Delta^\\mu_\\beta} & \\covar{\\Delta^{\\mu}_\\alpha}{\\Delta^{\\Sigma}_\\beta}\\\\\\covar{\\Delta^{\\Sigma}_\\beta}{\\Delta^{\\mu}_\\alpha} & \\covar{\\Delta^{\\Sigma}_\\alpha}{\\Delta^{\\Sigma}_\\beta}\\end{bmatrix}\\in\\reals^{(K+K^2)\\times (K+K^2)}\\end{align}\n\n\\begin{align}\\covar{\\mat{Q}_0}{\\mat{\\Delta}_\\alpha}(\\rvset_\\text{ACV}) = \\begin{bmatrix}\\covar{Q^\\mu_0}{\\Delta^\\mu_\\alpha} & \\covar{Q^{\\mu}_0}{\\Delta^{\\Sigma}_\\alpha} \\\\ \\covar{Q^{\\Sigma}_0}{\\Delta^{\\mu}_\\alpha} & \\covar{Q^{\\Sigma}_0}{\\Delta^{\\Sigma}_\\alpha}\\end{bmatrix} \\in\\reals^{(K+K^2)\\times (K+K^2)}.\\end{align}\n\n\n\\begin{align}\\covar{\\Delta^{\\mu}_\\alpha}{\\Delta^{\\Sigma}_\\beta} = F_{\\alpha\\beta}\\mat{B}_{\\alpha\\beta}\\in\\reals^{K\\times (K+K^2)}\\end{align}\n\n\n\\begin{align}\\covar{Q^{\\mu}_0}{\\Delta^{\\Sigma}_\\alpha}=G_\\alpha\\mat{B}_{0\\alpha}\\in\\reals^{K\\times (K+K^2)}\\end{align}\n"
      ]
    }
  ],
  "metadata": {
    "kernelspec": {
      "display_name": "Python 3",
      "language": "python",
      "name": "python3"
    },
    "language_info": {
      "codemirror_mode": {
        "name": "ipython",
        "version": 3
      },
      "file_extension": ".py",
      "mimetype": "text/x-python",
      "name": "python",
      "nbconvert_exporter": "python",
      "pygments_lexer": "ipython3",
      "version": "3.10.13"
    }
  },
  "nbformat": 4,
  "nbformat_minor": 0
}