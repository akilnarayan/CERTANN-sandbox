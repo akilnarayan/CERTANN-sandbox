{
  "cells": [
    {
      "cell_type": "markdown",
      "metadata": {},
      "source": [
        "Add latex macros$$\\newcommand{\\V}[1]{{\\boldsymbol{#1}}}\\newcommand{mean}[1]{{\\mathbb{E}\\left[#1\\right]}}\\newcommand{var}[1]{{\\mathbb{V}\\left[#1\\right]}}\\newcommand{covar}[2]{\\mathbb{C}\\text{ov}\\left[#1,#2\\right]}\\newcommand{corr}[2]{\\mathbb{C}\\text{or}\\left[#1,#2\\right]}\\newcommand{argmin}{\\mathrm{argmin}}\\def\\rv{z}\\def\\reals{\\mathbb{R}}\\def\\rvset{{\\mathcal{Z}}}\\def\\pdf{\\rho}\\def\\rvdom{\\Gamma}\\def\\coloneqq{\\colon=}\\newcommand{norm}{\\lVert #1 \\rVert}\\def\\argmax{\\operatorname{argmax}}\\def\\ai{\\alpha}\\def\\bi{\\beta}\\newcommand{\\dx}[1]{\\;\\text{d}#1}\\newcommand{\\mat}[1]{{\\boldsymbol{\\mathrm{#1}}}}$$"
      ]
    },
    {
      "cell_type": "markdown",
      "metadata": {},
      "source": [
        "\n# Low-discrepancy quadrature\nMonte Carlo\n===========\nIt is often important to quantify statistics of numerical models. Monte Carlo\nquadrature is the simplest and most robust method for doing so. For any model\nwe can compute statistics, such as mean and variance as follows\n"
      ]
    },
    {
      "cell_type": "code",
      "execution_count": null,
      "metadata": {
        "collapsed": false
      },
      "outputs": [],
      "source": [
        "from pyapprox import expdesign\nfrom pyapprox.benchmarks import setup_benchmark\nbenchmark = setup_benchmark(\"genz\", test_name=\"oscillatory\", nvars=2)\nnsamples = 100\nmc_samples = benchmark.variable.rvs(nsamples)\nvalues = benchmark.fun(mc_samples)\nmean = values.mean(axis=0)\nvariance = values.var(axis=0)\nprint(\"mean\", mean)\nprint(\"variance\", variance)"
      ]
    },
    {
      "cell_type": "markdown",
      "metadata": {},
      "source": [
        "Although not necessary for this scalar valued function, we in geenral must\nuse the args axis=0 to mean and variance so that we compute the statistics\nfor each quantity of interest (column of values)\n\n## Sobol Sequences\nLarge number of samples are needed to compute statistics using Monte Carlo\nquadrature. Low-discrepancy sequences can be used to improve accuracy for a\nfixed number of samples. We can compute statistics using Sobol sequences as\nfollows\n\n"
      ]
    },
    {
      "cell_type": "code",
      "execution_count": null,
      "metadata": {
        "collapsed": false
      },
      "outputs": [],
      "source": [
        "sobol_samples = expdesign.sobol_sequence(\n    benchmark.variable.num_vars(), nsamples, variable=benchmark.variable)\nvalues = benchmark.fun(sobol_samples)\nfrom pyapprox.variables import print_statistics\nprint_statistics(sobol_samples, values)"
      ]
    },
    {
      "cell_type": "markdown",
      "metadata": {},
      "source": [
        "Here we have used print statistics to compute the sample stats. Note,\nthe inverse cumulative distribution functions of the univariate variables in\nvariable are used to ensure that the samples integrate with respect to the\njoint distribution of variable. If the variable argument is not provided the\nSobol sequence will be generated on the unit hybercube $[0,1]^D$.\n\nLow-discrepancy sequences are typically more evenly space over the parameter\nspace. This can be seen by comparing the Monte Carlo and Sobol sequence samples\n\n"
      ]
    },
    {
      "cell_type": "code",
      "execution_count": null,
      "metadata": {
        "collapsed": false
      },
      "outputs": [],
      "source": [
        "import matplotlib.pyplot as plt\nplt.plot(mc_samples[0, :], mc_samples[1, :], 'ko', label=\"MC\")\nplt.plot(sobol_samples[0, :], sobol_samples[1, :], 'rs', label=\"Sobol\")\nplt.legend()\nplt.show()\n\n#\n#Halton Sequences\n#================\n#Pyapprox also supports Halton Sequences\nhalton_samples = expdesign.halton_sequence(\n    benchmark.variable.num_vars(), nsamples, variable=benchmark.variable)\nvalues = benchmark.fun(halton_samples)\nprint_statistics(halton_samples, values)"
      ]
    },
    {
      "cell_type": "markdown",
      "metadata": {},
      "source": [
        "## Latin Hypercube Designs\nLatin Hypercube designs are another popular means to compute low-discrepancy\nsamples for quadrature. Pyapprox does not support such designs as unlike\nSobol and Halton Sequences they are not nested. For example, when using Latin\nHypercube designs, it is not possible to requrest 100 samples\nthen request 200 samples while resuing the first 100.\n\n"
      ]
    }
  ],
  "metadata": {
    "kernelspec": {
      "display_name": "Python 3",
      "language": "python",
      "name": "python3"
    },
    "language_info": {
      "codemirror_mode": {
        "name": "ipython",
        "version": 3
      },
      "file_extension": ".py",
      "mimetype": "text/x-python",
      "name": "python",
      "nbconvert_exporter": "python",
      "pygments_lexer": "ipython3",
      "version": "3.10.13"
    }
  },
  "nbformat": 4,
  "nbformat_minor": 0
}