{
  "cells": [
    {
      "cell_type": "markdown",
      "metadata": {},
      "source": [
        "Add latex macros$$\\newcommand{\\V}[1]{{\\boldsymbol{#1}}}\\newcommand{mean}[1]{{\\mathbb{E}\\left[#1\\right]}}\\newcommand{var}[1]{{\\mathbb{V}\\left[#1\\right]}}\\newcommand{covar}[2]{\\mathbb{C}\\text{ov}\\left[#1,#2\\right]}\\newcommand{corr}[2]{\\mathbb{C}\\text{or}\\left[#1,#2\\right]}\\newcommand{argmin}{\\mathrm{argmin}}\\def\\rv{z}\\def\\reals{\\mathbb{R}}\\def\\rvset{{\\mathcal{Z}}}\\def\\pdf{\\rho}\\def\\rvdom{\\Gamma}\\def\\coloneqq{\\colon=}\\newcommand{norm}{\\lVert #1 \\rVert}\\def\\argmax{\\operatorname{argmax}}\\def\\ai{\\alpha}\\def\\bi{\\beta}\\newcommand{\\dx}[1]{\\;\\text{d}#1}\\newcommand{\\mat}[1]{{\\boldsymbol{\\mathrm{#1}}}}$$"
      ]
    },
    {
      "cell_type": "markdown",
      "metadata": {},
      "source": [
        "\n# MFNets: Multi-fidelity networks\nThis tutorial describes how to implement and deploy multi-fidelity networks to construct a surrogate of the output of a high-fidelity model using a set of lower-fidelity models of lower accuracy and cost [GJGEIJUQ2020]_.\n\nIn the `sphx_glr_auto_tutorials_multi_fidelity_plot_multiindex_collocation.py` tutorial we showed how multi-index collocation takes adavantage of a specific type of relationship between models to build a surrogate. In some applications this structure may not exist and so methods that can exploit other types of structures are needed. MFNets provide a means to encode problem specific relationships between information sources.\n\nIn the following we will approximate each information source with a linear subspace model. Specifically given a basis (features) $\\phi_\\alpha=\\{\\phi_{\\alpha p}\\}_{p=1}^P$ for each information source $\\alpha=1\\ldots,M$ we seek approximations of the form\n\n\\begin{align}Y_\\alpha = h(Z_\\alpha)\\theta_\\alpha = \\sum_{p=1}^{P_\\alpha} \\phi_p(Z_\\alpha)\\theta_{\\alpha p}\\end{align}\n\nGiven data for each model $y_\\alpha=[(y_\\alpha^{(1)})^\\top,\\ldots,(y_\\alpha^{(N_\\alpha)})^\\top]^\\top$ where $y_\\alpha^{(i)}=h(\\rv_\\alpha^{(i)})\\theta_\\alpha+\\epsilon_\\alpha^{(i)}\\in\\reals^{1\\times Q}$\n\nMFNets provides a framework to encode correlation between information sources to with the goal of producing high-fidelity approximations which are more accurate than single-fidelity approximations using ony high-fidelity data. The first part of this tutorial will show how to apply MFNets to a simple problem using standard results for the posterior of Gaussian linear models. The second part of this tutorial will show how to generalize the MFNets procedure using Bayesian Networks.\n\n## Linear-Gaussian models\nAs our first example we will consider the following ensemble of three univariate information sources which are parameterized by the same variable $\\rv_1$\n\n\\begin{align}f_1(\\rv) &= \\cos\\left(3\\pi\\rv_1\\right), \\\\\n   f_2(\\rv) &= \\exp\\left(-0.5(\\rv_1-0.5)^2\\right),\\\\\n   f_3(\\rv) &= f_1(\\rv)+f_2(\\rv)+2\\rv_1-1\\end{align}\n\nLet's first import the necessary functions and modules and set the seed for reproducibility\n"
      ]
    },
    {
      "cell_type": "code",
      "execution_count": null,
      "metadata": {
        "collapsed": false
      },
      "outputs": [],
      "source": [
        "import networkx as nx\nimport numpy as np\nimport scipy\nfrom scipy import stats\nimport matplotlib.pyplot as plt\n\nfrom pyapprox.bayes.laplace import (\n    laplace_posterior_approximation_for_linear_models)\nfrom pyapprox.bayes.gaussian_network import (\n    get_total_degree_polynomials, plot_1d_lvn_approx, GaussianNetwork,\n    cond_prob_variable_elimination,\n    convert_gaussian_from_canonical_form,\n    plot_peer_network_with_data)\n\nnp.random.seed(2)"
      ]
    },
    {
      "cell_type": "markdown",
      "metadata": {},
      "source": [
        "Now define the information sources and their inputs\n\n"
      ]
    },
    {
      "cell_type": "code",
      "execution_count": null,
      "metadata": {
        "collapsed": false
      },
      "outputs": [],
      "source": [
        "nmodels = 3\ndef f1(x): return np.cos(3*np.pi*x).T\ndef f2(x): return np.exp(-(x-.5)**2/0.25).T\ndef f3(x): return f1(x)+f2(x)+(2*x-1).T\n\n\nfunctions = [f1, f2, f3]\nensemble_univariate_variables = [[stats.uniform(0, 1)]]*nmodels"
      ]
    },
    {
      "cell_type": "markdown",
      "metadata": {},
      "source": [
        "Plot the 3 functions\n\n"
      ]
    },
    {
      "cell_type": "code",
      "execution_count": null,
      "metadata": {
        "collapsed": false
      },
      "outputs": [],
      "source": [
        "xx = np.linspace(0, 1, 101)[None, :]\nplt.plot(xx[0, :],  f1(xx), label=r'$f_1$', c='b')\nplt.plot(xx[0, :],  f2(xx), label=r'$f_2$', c='r')\nplt.plot(xx[0, :],  f3(xx), label=r'$f_3$', c='k')\n_ = plt.legend()"
      ]
    },
    {
      "cell_type": "markdown",
      "metadata": {},
      "source": [
        "Now setup the polynomial approximations of each information source\n\n"
      ]
    },
    {
      "cell_type": "code",
      "execution_count": null,
      "metadata": {
        "collapsed": false
      },
      "outputs": [],
      "source": [
        "degrees = [5]*nmodels\npolys, nparams = get_total_degree_polynomials(\n    ensemble_univariate_variables, degrees)"
      ]
    },
    {
      "cell_type": "markdown",
      "metadata": {},
      "source": [
        "Next generate the training data. Here we will set the noise to be independent Gaussian with mean zero and variance $0.01^2$.\n\n"
      ]
    },
    {
      "cell_type": "code",
      "execution_count": null,
      "metadata": {
        "collapsed": false
      },
      "outputs": [],
      "source": [
        "nsamples = [20, 20, 3]\nsamples_train = [p.var_trans.variable.rvs(n) for p, n in zip(polys, nsamples)]\nnoise_std = [0.01]*nmodels\nnoise = [noise_std[ii]*np.random.normal(\n    0, noise_std[ii], (samples_train[ii].shape[1], 1)) for ii in range(nmodels)]\nvalues_train = [f(s)+n for s, f, n in zip(samples_train, functions, noise)]"
      ]
    },
    {
      "cell_type": "markdown",
      "metadata": {},
      "source": [
        "In the following we will assume a Gaussian prior on the coefficients of each approximation. Because the noise is also Gaussian and we are using linear subspace models the posterior of the approximation coefficients will also be Gaussian.\n\nWith the goal of applying classical formulas for the posterior of Gaussian-linear models let's first define the linear model which involves all information sources\n\n\\begin{align}y=\\Phi\\theta+\\epsilon\\end{align}\n\nSpecifically let $\\Phi_\\alpha\\in\\reals^{N_i\\times P_i}$ be Vandermonde-like matrices with entries $\\phi_{\\alpha p}(\\rv_\\alpha^{(n)})$ in the nth row and pth column. Now define $\\Phi=\\mathrm{blockdiag}\\left(\\Phi_1,\\ldots,\\Phi_M\\right)$ and $\\Sigma_\\epsilon=\\mathrm{blockdiag}\\left(\\Sigma_{\\epsilon 1},\\ldots,\\Sigma_{\\epsilon M}\\right)$, $y=\\left[y_1^\\top,\\ldots,y_M^\\top\\right]^\\top$,  $\\theta=\\left[\\theta_1^\\top,\\ldots,\\theta_M^\\top\\right]^\\top$, and $\\epsilon=\\left[\\epsilon_1^\\top,\\ldots,\\epsilon_M^\\top\\right]^\\top$.\n\nFor our three model example we have\n\n\\begin{align}\\Phi=\\begin{bmatrix}\\Phi_1 & 0_{N_1P_2} & 0_{N_1P_3}\\\\ 0_{N_2P_1} & \\Phi_2 & 0_{N_2P_3}\\\\0_{N_3P_1} & 0_{N_3P_1} & \\Phi_3 \\end{bmatrix} \\qquad \\Sigma_\\epsilon=\\begin{bmatrix}\\Sigma_{\\epsilon_1} & 0_{N_1N_2} & 0_{N_1N_3}\\\\ 0_{N_2N_1} & \\Sigma_{\\epsilon_2} & 0_{N_2N_3}\\\\0_{N_3N_1} & 0_{N_3N_1} & \\Sigma_{\\epsilon_3} \\end{bmatrix}\\qquad y= \\begin{bmatrix}y_1\\\\y_2\\\\y_3 \\end{bmatrix}\\end{align}\n\nwhere the $0_{mp}\\in\\reals^{m\\times p}$ is a matrix of zeros.\n\n"
      ]
    },
    {
      "cell_type": "code",
      "execution_count": null,
      "metadata": {
        "collapsed": false
      },
      "outputs": [],
      "source": [
        "basis_matrices = [p.basis_matrix(s) for p, s in zip(polys, samples_train)]\nbasis_mat = scipy.linalg.block_diag(*basis_matrices)\nnoise_matrices = [noise_std[ii]**2*np.eye(samples_train[ii].shape[1])\n                  for ii in range(nmodels)]\nnoise_cov = scipy.linalg.block_diag(*noise_matrices)\nvalues = np.vstack(values_train)"
      ]
    },
    {
      "cell_type": "markdown",
      "metadata": {},
      "source": [
        "Now let the prior on the coefficients of $Y_\\alpha$ be Gaussian with mean $\\mu_\\alpha$ and covariance $\\Sigma_{\\alpha\\alpha}$, and the covariance between the coefficients of different information sources $Y_\\alpha$ and $Y_\\beta$ be $\\Sigma_{\\alpha\\beta}$, such that the joint density of the coefficients of all information sources is Gaussian with mean and covariance given by\n\n\\begin{align}\\mu=\\left[\\mu_1^\\top,\\ldots,\\mu_M^\\top\\right]^\\top` \\qquad \\Sigma=\\begin{bmatrix}\\Sigma_{11} &\\Sigma_{12} &\\ldots &\\Sigma_{1M} \\\\ \\Sigma_{21} &\\Sigma_{22} &\\ldots &\\Sigma_{2M}\\\\\\vdots &\\vdots & \\ddots &\\vdots \\\\ \\Sigma_{M1} &\\Sigma_{M2} &\\ldots &\\Sigma_{MM}\\end{bmatrix}\\end{align}\n\nIn the following we will set the prior mean to zero for all coefficients and first try setting all the coefficients to be independent\n\n"
      ]
    },
    {
      "cell_type": "code",
      "execution_count": null,
      "metadata": {
        "collapsed": false
      },
      "outputs": [],
      "source": [
        "prior_mean = np.zeros((nparams.sum(), 1))\nprior_cov = np.eye(nparams.sum())"
      ]
    },
    {
      "cell_type": "markdown",
      "metadata": {},
      "source": [
        "With these definition the posterior distribution of the coefficients is (see `sphx_glr_auto_tutorials_inference_plot_bayesian_inference.py`)\n\n\\begin{align}\\Sigma^\\mathrm{post}=\\left(\\Sigma^{-1}+\\Phi^\\top\\Sigma_\\epsilon^{-1}\\Phi\\right)^{-1}, \\qquad  \\mu^\\mathrm{post}=\\Sigma^\\mathrm{post}\\left(\\Phi^\\top\\Sigma_\\epsilon^{-1}y+\\Sigma^{-1}\\mu\\right),\\end{align}\n\n\n"
      ]
    },
    {
      "cell_type": "code",
      "execution_count": null,
      "metadata": {
        "collapsed": false
      },
      "outputs": [],
      "source": [
        "post_mean, post_cov = laplace_posterior_approximation_for_linear_models(\n    basis_mat, prior_mean, np.linalg.inv(prior_cov), np.linalg.inv(noise_cov),\n    values)"
      ]
    },
    {
      "cell_type": "markdown",
      "metadata": {},
      "source": [
        "Now let's plot the resulting approximation of the high-fidelity data.\n\n"
      ]
    },
    {
      "cell_type": "code",
      "execution_count": null,
      "metadata": {
        "collapsed": false
      },
      "outputs": [],
      "source": [
        "hf_prior = (prior_mean[nparams[:-1].sum():],\n            prior_cov[nparams[:-1].sum():, nparams[:-1].sum():])\nhf_posterior = (post_mean[nparams[:-1].sum():],\n                post_cov[nparams[:-1].sum():, nparams[:-1].sum():])\nxx = np.linspace(0, 1, 101)\nfig, axs = plt.subplots(1, 1, figsize=(8, 6))\ntraining_labels = [\n    r'$f_1(z_1^{(i)})$', r'$f_2(z_2^{(i)})$', r'$f_3(z_2^{(i)})$']\nplot_1d_lvn_approx(\n    xx, nmodels, polys[2].basis_matrix, hf_posterior, hf_prior, axs,\n    samples_train[2:], values_train[2:], training_labels[2:], [0, 1],\n    colors=['k'], mean_label=r'$\\mathrm{Single\\;Fidelity}$')\naxs.set_xlabel(r'$z$')\naxs.set_ylabel(r'$f(z)$')\n_ = plt.plot(xx, f3(xx), 'k', label=r'$f_3$')"
      ]
    },
    {
      "cell_type": "markdown",
      "metadata": {},
      "source": [
        "Unfortunately by assuming that the coefficients of each information source are independent the lower fidelity data is not informing the estimation of the coefficients of the high-fidelity approximation. This statement can be verified by computing an approximation with only the high-fidelity data\n\n"
      ]
    },
    {
      "cell_type": "code",
      "execution_count": null,
      "metadata": {
        "collapsed": false
      },
      "outputs": [],
      "source": [
        "single_hf_posterior = laplace_posterior_approximation_for_linear_models(\n    basis_matrices[-1], hf_prior[0], np.linalg.inv(hf_prior[1]),\n    np.linalg.inv(noise_matrices[-1]), values_train[-1])\nassert np.allclose(single_hf_posterior[0], hf_posterior[0])\nassert np.allclose(single_hf_posterior[1], hf_posterior[1])"
      ]
    },
    {
      "cell_type": "markdown",
      "metadata": {},
      "source": [
        "We can improve the high-fidelity approximation by encoding a correlation between the coefficients of each information source. In the following we will assume that the cofficients of an information source is linearly related to the coefficients of the other information sources. Specifically we will assume that\n\n\\begin{align}\\theta_\\alpha = \\sum_{\\beta\\in\\mathrm{pa}(\\alpha)} A_{\\alpha\\beta}\\theta_\\beta + b_\\alpha + v_\\alpha,\\end{align}\n\nwhere $b_\\alpha\\in\\reals^{P_\\alpha}$ is a deterministic shift, $v_\\alpha$ is a Gaussian noise with mean zero and covariance $\\Sigma_{v_\\alpha}\\in\\reals^{P_\\alpha\\times P_\\alpha}$, and  $\\mathrm{pa}(\\alpha)\\subset \\{\\beta : \\beta=1,\\ldots,M, \\beta\\neq\\alpha\\}$ is a possibly empty subset of indices indexing the information sources upon which the $\\alpha$ information source is dependent. Here $A_{\\alpha\\beta}\\in\\reals^{P_\\alpha\\times P_\\beta}$ are matrices which, along with $\\Sigma_{v\\alpha}$, define the strength of the relationship between the coefficients of each information source. When these matrices are dense each coefficient of $Y_\\alpha$ is a function of all coefficients in $Y_\\beta$. It is often more appropriate, however to impose a sparse structure. For example if $A$ is diagonal this implies that the coefficient of a certain basis in the representation of one information source is only related to the coefficient of the same basis in the other information sources.\n\nNote this notation comes from the literature on Bayesian networks which we will use in the next section to generalize the procedure described in this tutorial to large ensembles of information sources with complex dependencies.\n\nThe variable $v_\\alpha$ is a random variable that controls the correlation between the coefficients of the information sources. The MFNets framework in [GJGEIJUQ2020]_ assumes that this variable is Gaussian with mean zero and covariance given by $\\Sigma_{v\\alpha}$. In this example we will set\n\n\\begin{align}\\theta_3=A_{31}\\theta_1+A_{32}\\theta_2+b_3+v_3\\end{align}\n\nand assume that $\\covar{\\theta_\\alpha}{v_3}=0\\: \\forall \\alpha$ and  $\\covar{\\theta_1}{\\theta_2}=0$. Note the later relationship does not mean data from the information from $Y_1$ cannot be used to inform the coefficients of $Y_2$.\n\nGiven the defined relationship between the coefficients of each information source we can compute the prior over the joint distribiution of the coefficients of all information sources. Without loss of generality we assume the variables have zero mean and $b_3=0$ so that\n\n\\begin{align}\\covar{\\theta_1}{\\theta_3}=\\mean{\\theta_1\\theta_3^\\top}=\\mean{\\theta_1\\left(A_{31}\\theta_1+A_{32}\\theta_2+v_\\alpha\\right)^\\top}=\\covar{\\theta_1}{\\theta_1}A_{31}^\\top\\end{align}\n\nsimilarly $\\covar{\\theta_2}{\\theta_3}=\\covar{\\theta_2}{\\theta_2}A_{32}^\\top$. We also have\n\n\\begin{align}\\covar{\\theta_3}{\\theta_3}&=\\mean{\\theta_1\\theta_1^\\top}=\\mean{\\left(A_{13}\\theta_1+A_{12}\\theta_2+v_\\alpha\\right)\\left(A_{31}\\theta_1+A_{32}\\theta_2+v_3\\right)^\\top}\\\\&=A_{31}\\covar{\\theta_1}{\\theta_1}A_{31}^\\top+A_{32}\\covar{\\theta_2}{\\theta_2}A_{32}^\\top+\\covar{v_3}{v_3}\\end{align}\n\nIn this tutorial we will set $A_{31}=a_{31} I$, $A_{32}=a_{32} I$, $\\Sigma_{11}=s_{11} I$, $\\Sigma_{22}=s_{22} I$ and  $\\Sigma_{v_3}=v_{3} I$ to be diagonal matrices with the same value for all entries on the diagonal which gives\n\n\\begin{align}\\Sigma=\\begin{bmatrix}\\Sigma_{11} & 0 & a_{31}\\Sigma_{11}\\\\ 0 & \\Sigma_{22} & a_{32}\\Sigma_{22}\\\\ a_{31}\\Sigma_{11} & a_{32}\\Sigma_{22} & a_{31}^2\\Sigma_{11}+a_{32}^2\\Sigma_{22}+\\Sigma_{v_3}\\end{bmatrix}\\end{align}\n\nIn the following we want to set the prior covariance of each individual information source to be the same, i.e. we set $s_{11}=s_{22}$ and $v_3=s_{33}-(a_{31}^2\\Sigma_{11}+a_{32}^2\\Sigma_{22})$\n\n"
      ]
    },
    {
      "cell_type": "code",
      "execution_count": null,
      "metadata": {
        "collapsed": false
      },
      "outputs": [],
      "source": [
        "I1, I2, I3 = np.eye(degrees[0]+1), np.eye(degrees[1]+1), np.eye(degrees[2]+1)\n\ns11, s22, s33 = [1]*nmodels\na31, a32 = [0.7]*(nmodels-1)\n#if a31==32 and s11=s22=s33=1 then a31<=1/np.sqrt(2))\nassert (s33-a31**2*s11-a32**2*s22) > 0\nrows = [np.hstack([s11*I1, 0*I1, a31*s11*I1]),\n        np.hstack([0*I2, s22*I2, a32*s22*I2]),\n        np.hstack([a31*s11*I3, a32*s22*I3, s33*I3])]\nprior_cov = np.vstack(rows)"
      ]
    },
    {
      "cell_type": "markdown",
      "metadata": {},
      "source": [
        "Plot the structure of the prior covariance\n\n"
      ]
    },
    {
      "cell_type": "code",
      "execution_count": null,
      "metadata": {
        "collapsed": false
      },
      "outputs": [],
      "source": [
        "fig, axs = plt.subplots(1, 1, figsize=(8, 6))\n_ = plt.spy(prior_cov)"
      ]
    },
    {
      "cell_type": "code",
      "execution_count": null,
      "metadata": {
        "collapsed": false
      },
      "outputs": [],
      "source": [
        "post_mean, post_cov = laplace_posterior_approximation_for_linear_models(\n    basis_mat, prior_mean, np.linalg.inv(prior_cov), np.linalg.inv(noise_cov),\n    values)"
      ]
    },
    {
      "cell_type": "markdown",
      "metadata": {},
      "source": [
        "Now let's plot the resulting approximation of the high-fidelity data.\n\n"
      ]
    },
    {
      "cell_type": "code",
      "execution_count": null,
      "metadata": {
        "collapsed": false
      },
      "outputs": [],
      "source": [
        "hf_prior = (prior_mean[nparams[:-1].sum():],\n            prior_cov[nparams[:-1].sum():, nparams[:-1].sum():])\nhf_posterior = (post_mean[nparams[:-1].sum():],\n                post_cov[nparams[:-1].sum():, nparams[:-1].sum():])\nxx = np.linspace(0, 1, 101)\nfig, axs = plt.subplots(1, 1, figsize=(8, 6))\ntraining_labels = [\n    r'$f_1(z_1^{(i)})$', r'$f_2(z_2^{(i)})$', r'$f_3(z_2^{(i)})$']\nplot_1d_lvn_approx(xx, nmodels, polys[2].basis_matrix, hf_posterior, hf_prior,\n                   axs, samples_train, values_train, training_labels, [0, 1],\n                   colors=['b', 'r', 'k'])\naxs.set_xlabel(r'$z$')\naxs.set_ylabel(r'$f(z)$')\n_ = plt.plot(xx, f3(xx), 'k', label=r'$f_3$')"
      ]
    },
    {
      "cell_type": "markdown",
      "metadata": {},
      "source": [
        "Depsite using only a very small number of samples of the high-fidelity information source, the multi-fidelity approximation has smaller variance and the mean more closely approximates the true high-fidelity information source, when compared to the single fidelity strategy.\n\n## Gaussian Networks\nIn this section of the tutorial we will use show how to use Gaussian (Bayesian networks to encode a large class of relationships between information sources and perform compuationally efficient inference. This tutorial builds on the material presented in the `sphx_glr_auto_tutorials_inference_plot_bayesian_networks.py` tutorial.\n\nIn the following we will use use Gaussian networks to fuse information from a modification of the information enembles used in the previous section. Specifically consider the enemble\n\n\\begin{align}f_1(\\rv) &= \\cos\\left(3\\pi\\rv_1+0.1\\rv_2\\right), \\\\\n  f_2(\\rv) &= \\exp\\left(-0.5(\\rv_1-0.5)^2\\right),\\\\\n  f_3(\\rv) &= f_2(\\rv)+\\cos(3\\pi\\rv_1)\\end{align}\n\n\n"
      ]
    },
    {
      "cell_type": "code",
      "execution_count": null,
      "metadata": {
        "collapsed": false
      },
      "outputs": [],
      "source": [
        "nmodels = 3\ndef f1(x): return np.cos(3*np.pi*x[0, :]+0.1*x[1, :])[:, np.newaxis]\ndef f2(x): return np.exp(-(x-.5)**2/0.5).T\ndef f3(x): return f2(x)+np.cos(3*np.pi*x).T\n\n\nfunctions = [f1, f2, f3]\n\nensemble_univariate_variables = [\n    [stats.uniform(0, 1)]*2]+[[stats.uniform(0, 1)]]*2"
      ]
    },
    {
      "cell_type": "markdown",
      "metadata": {},
      "source": [
        "The difference between this example and the previous is that one of the low-fidelity information sources has two inputs in contrast to the other sources (functions) which have one. These types of sources CANNOT be fused by other multi-fidelity methods. Fusion is possible with MFNets because it relates information sources through correlation between the coefficients of the approximations of each information source. In the context of Bayesian networks the coefficients are called latent variables.\n\nAgain assume that the coefficients of one source are only related to the coefficient of the corresponding basis function in the parent sources. Note that unlike before the $A_{ij}$ matrices will not be diagonal. The polynomials have different numbers of terms and so the $A_{ij}$ matrices will be rectangular. They are essentially a diagonal matrix concatenated with a matrix of zeros. Let $A^\\mathrm{nz}_{31}=a_{31}I\\in\\reals^{P_1\\times P_1}$ be a diagonal matrix relating the coefficients of all the shared terms in $Y_1,Y_3$. Then $A^\\mathrm{nz}_{31}=[A^\\mathrm{nz}_{31} \\: 0_{P_3\\times(P_1-P_3)}]\\in\\reals^{P_1\\times P_2}$.\n\nUse the following to setup a Gaussian network for our example\n\n"
      ]
    },
    {
      "cell_type": "code",
      "execution_count": null,
      "metadata": {
        "collapsed": false
      },
      "outputs": [],
      "source": [
        "degrees = [3, 5, 5]\npolys, nparams = get_total_degree_polynomials(\n    ensemble_univariate_variables, degrees)\nbasis_matrix_funcs = [p.basis_matrix for p in polys]\n\ns11, s22, s33 = [1]*nmodels\na31, a32 = [0.7]*(nmodels-1)\ncpd_scales = [a31, a32]\nprior_covs = [s11, s22, s33]\n\nnnodes = 3\ngraph = nx.DiGraph()\nprior_covs = [1, 1, 1]\nprior_means = [0, 0, 0]\ncpd_scales = [a31, a32]\nnode_labels = [f'Node_{ii}' for ii in range(nnodes)]\ncpd_mats = [None, None,\n            np.hstack([cpd_scales[0]*np.eye(nparams[2], nparams[0]),\n                       cpd_scales[1]*np.eye(nparams[2], nparams[1])])]\n\nfor ii in range(nnodes-1):\n    graph.add_node(\n        ii, label=node_labels[ii],\n        cpd_cov=prior_covs[ii]*np.eye(nparams[ii]),\n        nparams=nparams[ii], cpd_mat=cpd_mats[ii],\n        cpd_mean=prior_means[ii]*np.ones((nparams[ii], 1)))\n#WARNING Nodes have to be added in order their information appears in lists.\n#i.e. high-fidelity node must be added last.\nii = nnodes-1\ncov = np.eye(nparams[ii])*(prior_covs[ii]-np.dot(\n    np.asarray(cpd_scales)**2, prior_covs[:ii]))\ngraph.add_node(\n    ii, label=node_labels[ii], cpd_cov=cov, nparams=nparams[ii],\n    cpd_mat=cpd_mats[ii],\n    cpd_mean=(prior_means[ii]-np.dot(cpd_scales[:ii], prior_means[:ii])) *\n    np.ones((nparams[ii], 1)))\n\n\ngraph.add_edges_from([(ii, nnodes-1) for ii in range(nnodes-1)])\n\n\nnetwork = GaussianNetwork(graph)"
      ]
    },
    {
      "cell_type": "markdown",
      "metadata": {},
      "source": [
        "We can compute the prior from this network using by instantiating the factors used to represent the joint density of the coefficients and then multiplying them together using the conditional probability variable elimination algorithm. We will describe this algorithm in more detail when infering the posterior distribution of the coefficients from data using the graph. When computing the prior this algorithm simply amounts to multiplying the factors of the graph together.\n\n"
      ]
    },
    {
      "cell_type": "code",
      "execution_count": null,
      "metadata": {
        "collapsed": false
      },
      "outputs": [],
      "source": [
        "network.convert_to_compact_factors()\nlabels = [l[1] for l in network.graph.nodes.data('label')]\nfactor_prior = cond_prob_variable_elimination(\n    network, labels)\nprior = convert_gaussian_from_canonical_form(\n    factor_prior.precision_matrix, factor_prior.shift)\n#print('Prior covariance',prior[1])\n\n#To infer the uncertain coefficients we must add training data to the network.\nnsamples = [10, 10, 2]\nsamples_train = [p.var_trans.variable.rvs(n) for p, n in zip(polys, nsamples)]\nnoise_std = [0.01]*nmodels\nnoise = [noise_std[ii]*np.random.normal(\n    0, noise_std[ii], (samples_train[ii].shape[1], 1)) for ii in range(nmodels)]\nvalues_train = [f(s)+n for s, f, n in zip(samples_train, functions, noise)]\n\ndata_cpd_mats = [\n    b(s) for b, s in zip(basis_matrix_funcs, samples_train)]\ndata_cpd_vecs = [np.zeros(nsamples[ii]) for ii in range(nmodels)]\nnoise_covs = [np.eye(nsamples[ii])*noise_std[ii]**2\n              for ii in range(nnodes)]\n\nnetwork.add_data_to_network(data_cpd_mats, data_cpd_vecs, noise_covs)\nfig, ax = plt.subplots(1, 1, figsize=(8, 5))\n_ = plot_peer_network_with_data(network.graph, ax)"
      ]
    },
    {
      "cell_type": "markdown",
      "metadata": {},
      "source": [
        "For this network we have $\\mathrm{pa}(1)=\\emptyset,\\;\\mathrm{pa}(1)=\\emptyset,\\;\\mathrm{pa}(2)=\\{1,2\\}$ and the graph has one CPDs which for this example is given by\n\n\\begin{align}\\mathbb{P}(\\theta_3\\mid \\theta_1,\\theta_2) \\sim \\mathcal{N}\\left(A_{31}\\theta_1+A_{32}\\theta_2+b_3,\\Sigma_{v_3}\\right),\\end{align}\n\nwith $b_3=0$.\n\nWe refer to a Gaussian network based upon this DAG as a peer network. Consider the case where a high fidelity simulation model incorporates two sets of active physics, and the two low-fidelity peer models each contain one of these components. If the high-fidelity model is given, then the low-fidelity models are no longer independent of one another. In other words, information about the parameters used in one set of physics will inform the other set of physics because they are coupled together in a known way through the high-fidelity model.\n\nThe joint density of the network is given by\n\n\\begin{align}\\mathbb{P}(\\theta_1,\\theta_2,\\theta_3)=\\mathbb{P}(\\theta_3\\mid \\theta_1,\\theta_2)\\mathbb{P}(\\theta_1)\\mathbb{P}(\\theta_2)\\end{align}\n\n"
      ]
    },
    {
      "cell_type": "code",
      "execution_count": null,
      "metadata": {
        "collapsed": false
      },
      "outputs": [],
      "source": [
        "#convert_to_compact_factors must be after add_data when doing inference\nnetwork.convert_to_compact_factors()\nlabels = ['Node_2']\nevidence, evidence_ids = network.assemble_evidence(values_train)\nfactor_post = cond_prob_variable_elimination(\n    network, labels, evidence_ids=evidence_ids, evidence=evidence)\nhf_posterior = convert_gaussian_from_canonical_form(\n    factor_post.precision_matrix, factor_post.shift)\nfactor_prior = cond_prob_variable_elimination(\n    network, labels)\nhf_prior = convert_gaussian_from_canonical_form(\n    factor_prior.precision_matrix, factor_prior.shift)\n\nxx = np.linspace(0, 1, 101)\nfig, axs = plt.subplots(1, 1, figsize=(8, 6))\nplot_1d_lvn_approx(xx, nmodels, polys[2].basis_matrix, hf_posterior, hf_prior,\n                   axs, samples_train, values_train, None, [0, 1])\n_ = axs.plot(xx, functions[2](xx[np.newaxis, :]), 'r', label=r'$f_3$')"
      ]
    },
    {
      "cell_type": "markdown",
      "metadata": {},
      "source": [
        "### References\n.. [GJGEIJUQ2020] [A. Gorodetsky et al. MFNets: Multi-fidelity data-driven networks for bayesian learning and prediction, International Journal for Uncertainty Quantification, 2020.](https://www.alexgorodetsky.com/static/papers/gorodetsky_jakeman_geraci_eldred_mfnets_2020.pdf)\n\n..\n .. [GJGJCP2020] [A. Gorodetsky et al. MFNets: Learning network representations for multifidelity surrogate modeling, 2020.](https://res.arxiv.org/abs/2008.02672)\n\n### Appendix\nThere is a strong connection between the mean of the Bayes posterior distribution of linear-Gaussian models with least squares regression. Specifically the mean of the posterior is equivalent to linear least-squares regression with a regulrization that penalizes deviations from the prior estimate of the parameters. Let the least squares objective function be\n\n\\begin{align}f(\\theta)=\\frac{1}{2}(y-A\\theta)^\\top\\Sigma_\\epsilon^{-1}(y-A\\theta)+\\frac{1}{2}(\\mu_\\theta-\\theta)^\\top\\Sigma_\\theta^{-1}(\\mu_\\theta-\\theta),\\end{align}\n\nwhere the first term on the right hand side is the usual least squares objective and the second is the regularization term. This regularized objective is minimized by setting its gradient to zero, i.e.\n\n\\begin{align}\\nabla_\\theta f(\\theta)=A^\\top\\Sigma_\\epsilon^{-1}(y-A\\theta)+\\Sigma_\\theta^{-1}(\\mu_\\theta-\\theta)=0,\\end{align}\n\nthus\n\n\\begin{align}A^\\top\\Sigma_\\epsilon^{-1}A\\theta+\\Sigma_\\theta^{-1}\\theta=A^\\top\\Sigma_\\epsilon^{-1}y+\\Sigma_\\theta^{-1}\\mu_\\theta\\end{align}\n\nand so\n\n\\begin{align}\\theta=\\left(A^\\top\\Sigma_\\epsilon^{-1}A\\theta+\\Sigma_\\theta^{-1}\\right)^{-1}\\left(A^\\top\\Sigma_\\epsilon^{-1}y+\\Sigma_\\theta^{-1}\\mu_\\theta\\right).\\end{align}\n\nNoting that $\\left(A^\\top\\Sigma_\\epsilon^{-1}A\\theta+\\Sigma_\\theta^{-1}\\right)^{-1}$ is the posterior covariance we obtain the usual expression for the posterior mean\n\n\\begin{align}\\mu^\\mathrm{post}=\\Sigma^\\mathrm{post}\\left(A^\\top\\Sigma_\\epsilon^{-1}y+\\Sigma_\\theta^{-1}\\mu_\\theta\\right)\\end{align}\n\n"
      ]
    }
  ],
  "metadata": {
    "kernelspec": {
      "display_name": "Python 3",
      "language": "python",
      "name": "python3"
    },
    "language_info": {
      "codemirror_mode": {
        "name": "ipython",
        "version": 3
      },
      "file_extension": ".py",
      "mimetype": "text/x-python",
      "name": "python",
      "nbconvert_exporter": "python",
      "pygments_lexer": "ipython3",
      "version": "3.10.13"
    }
  },
  "nbformat": 4,
  "nbformat_minor": 0
}