{
  "cells": [
    {
      "cell_type": "markdown",
      "metadata": {},
      "source": [
        "Add latex macros$$\\newcommand{\\V}[1]{{\\boldsymbol{#1}}}\\newcommand{mean}[1]{{\\mathbb{E}\\left[#1\\right]}}\\newcommand{var}[1]{{\\mathbb{V}\\left[#1\\right]}}\\newcommand{covar}[2]{\\mathbb{C}\\text{ov}\\left[#1,#2\\right]}\\newcommand{corr}[2]{\\mathbb{C}\\text{or}\\left[#1,#2\\right]}\\newcommand{argmin}{\\mathrm{argmin}}\\def\\rv{z}\\def\\reals{\\mathbb{R}}\\def\\rvset{{\\mathcal{Z}}}\\def\\pdf{\\rho}\\def\\rvdom{\\Gamma}\\def\\coloneqq{\\colon=}\\newcommand{norm}{\\lVert #1 \\rVert}\\def\\argmax{\\operatorname{argmax}}\\def\\ai{\\alpha}\\def\\bi{\\beta}\\newcommand{\\dx}[1]{\\;\\text{d}#1}\\newcommand{\\mat}[1]{{\\boldsymbol{\\mathrm{#1}}}}$$"
      ]
    },
    {
      "cell_type": "markdown",
      "metadata": {},
      "source": [
        "\n# Parameter Sweeps\nWhen analyzing complex models or functions it is often useful to gain insight\ninto its smoothness and non-linearity before undertaking more computationally\nintensive analysis such as uncertainty quantification or sensitivity analysis.\nKnowledge about smoothness and non-linearity can be used to inform what\nalgorithms are used for these later tasks.\n\nLets first generate parameter sweeps for the oakley benchmark. Each sweep will \nbe a random direction through the parameter domain. The domain is assumed to \nbe the cartesian product of the centered truncated intervals of each\n1D variable marginal. For unbounded variables each interval captures 99% of the\nPDF. For bounded variables the true bounds are used (i.e. are not truncated)\n"
      ]
    },
    {
      "cell_type": "code",
      "execution_count": null,
      "metadata": {
        "collapsed": false
      },
      "outputs": [],
      "source": [
        "from pyapprox import analysis\nfrom pyapprox.util.visualization import plt, mathrm_label\nfrom pyapprox.benchmarks import setup_benchmark\nimport numpy as np\nnp.random.seed(1)\n\nbenchmark = setup_benchmark(\"oakley\")\naxs = analysis.generate_parameter_sweeps_and_plot_from_variable(\n    benchmark.fun, benchmark.variable, num_samples_per_sweep=20, num_sweeps=3)\nplt.gcf().suptitle(mathrm_label(\"Oakely model parameter sweeps\"))\nplt.show()"
      ]
    },
    {
      "cell_type": "markdown",
      "metadata": {},
      "source": [
        "Now lets plot parameter sweeps for the Sobol G function\n\n"
      ]
    },
    {
      "cell_type": "code",
      "execution_count": null,
      "metadata": {
        "collapsed": false
      },
      "outputs": [],
      "source": [
        "benchmark = setup_benchmark(\"sobol_g\", nvars=4)\naxs = analysis.generate_parameter_sweeps_and_plot_from_variable(\n    benchmark.fun, benchmark.variable, num_samples_per_sweep=50, num_sweeps=3)\nplt.gcf().suptitle(mathrm_label(\"Sobol G model parameter sweeps\"))\nplt.show()"
      ]
    },
    {
      "cell_type": "markdown",
      "metadata": {},
      "source": [
        "The Sobol G function is not as smooth as the Oakely function. The former\nhas discontinuous first derivatives which can be seen by inspecting their\naprameter sweeps\n\n"
      ]
    }
  ],
  "metadata": {
    "kernelspec": {
      "display_name": "Python 3",
      "language": "python",
      "name": "python3"
    },
    "language_info": {
      "codemirror_mode": {
        "name": "ipython",
        "version": 3
      },
      "file_extension": ".py",
      "mimetype": "text/x-python",
      "name": "python",
      "nbconvert_exporter": "python",
      "pygments_lexer": "ipython3",
      "version": "3.10.13"
    }
  },
  "nbformat": 4,
  "nbformat_minor": 0
}