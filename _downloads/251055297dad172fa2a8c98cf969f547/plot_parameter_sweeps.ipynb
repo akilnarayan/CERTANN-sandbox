{
  "cells": [
    {
      "cell_type": "code",
      "execution_count": null,
      "metadata": {
        "collapsed": false
      },
      "outputs": [],
      "source": [
        "Add latex macros$$\\newcommand{\\V}[1]{{\\boldsymbol{#1}}}\\newcommand{mean}[1]{{\\mathbb{E}\\left[#1\\right]}}\\newcommand{var}[1]{{\\mathbb{V}\\left[#1\\right]}}\\newcommand{covar}[2]{\\mathbb{C}\\text{ov}\\left[#1,#2\\right]}\\newcommand{corr}[2]{\\mathbb{C}\\text{or}\\left[#1,#2\\right]}\\newcommand{argmin}{\\mathrm{argmin}}\\def\\rv{z}\\def\\reals{\\mathbb{R}}\\def\\pdf{\\rho}\\def\\rvdom{\\Gamma}\\def\\coloneqq{\\colon=}\\newcommand{norm}{\\lVert #1 \\rVert}\\def\\argmax{\\operatorname{argmax}}\\def\\ai{\\alpha}\\def\\bi{\\beta}\\newcommand{\\dx}[1]{\\;\\mathrm{d}#1}$$"
      ]
    },
    {
      "cell_type": "markdown",
      "metadata": {},
      "source": [
        "\n# Parameter Sweeps\nWhen analyzing complex models or functions it is often useful to gain insight\ninto its smoothness and non-linearity before undertaking more computationally\nintensive analysis such as uncertainty quantification or sensitivity analysis.\nKnowledge about smoothness and non-linearity can be used to inform what\nalgorithms are used for these later tasks.\n\nLets first generate parameter sweeps for the oakley benchmark. Each sweep will \nbe a random direction through the parameter domain. The domain is assumed to \nbe the cartesian product of the centered truncated intervals of each\n1D variable marginal. For unbounded variables each interval captures 99% of the\nPDF. For bounded variables the true bounds are used (i.e. are not truncated)\n"
      ]
    },
    {
      "cell_type": "code",
      "execution_count": null,
      "metadata": {
        "collapsed": false
      },
      "outputs": [],
      "source": [
        "from pyapprox import analysis\nfrom pyapprox.util.configure_plots import plt, mathrm_label\nfrom pyapprox.benchmarks import setup_benchmark\nimport numpy as np\nnp.random.seed(1)\n\nbenchmark = setup_benchmark(\"oakley\")\nfig, axs = analysis.generate_parameter_sweeps_and_plot_from_variable(\n    benchmark.fun, benchmark.variable, num_samples_per_sweep=20, num_sweeps=3)\nfig.suptitle(mathrm_label(\"Oakely model parameter sweeps\"))\nplt.show()"
      ]
    },
    {
      "cell_type": "markdown",
      "metadata": {},
      "source": [
        "Now lets plot parameter sweeps for the Sobol G function\n\n"
      ]
    },
    {
      "cell_type": "code",
      "execution_count": null,
      "metadata": {
        "collapsed": false
      },
      "outputs": [],
      "source": [
        "benchmark = setup_benchmark(\"sobol_g\", nvars=4)\nfig, axs = analysis.generate_parameter_sweeps_and_plot_from_variable(\n    benchmark.fun, benchmark.variable, num_samples_per_sweep=50, num_sweeps=3)\nfig.suptitle(mathrm_label(\"Sobol G model parameter sweeps\"))\nplt.show()"
      ]
    },
    {
      "cell_type": "markdown",
      "metadata": {},
      "source": [
        "The Sobol G function is not as smooth as the Oakely function. The former\nhas discontinuous first derivatives which can be seen by inspecting their\nprameter sweeps\n\n"
      ]
    }
  ],
  "metadata": {
    "kernelspec": {
      "display_name": "Python 3",
      "language": "python",
      "name": "python3"
    },
    "language_info": {
      "codemirror_mode": {
        "name": "ipython",
        "version": 3
      },
      "file_extension": ".py",
      "mimetype": "text/x-python",
      "name": "python",
      "nbconvert_exporter": "python",
      "pygments_lexer": "ipython3",
      "version": "3.8.11"
    }
  },
  "nbformat": 4,
  "nbformat_minor": 0
}