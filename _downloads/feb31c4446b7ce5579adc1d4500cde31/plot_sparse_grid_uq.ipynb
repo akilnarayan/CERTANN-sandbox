{
  "cells": [
    {
      "cell_type": "markdown",
      "metadata": {},
      "source": [
        "Add latex macros$$\\newcommand{\\V}[1]{{\\boldsymbol{#1}}}\\newcommand{mean}[1]{{\\mathbb{E}\\left[#1\\right]}}\\newcommand{var}[1]{{\\mathbb{V}\\left[#1\\right]}}\\newcommand{covar}[2]{\\mathbb{C}\\text{ov}\\left[#1,#2\\right]}\\newcommand{corr}[2]{\\mathbb{C}\\text{or}\\left[#1,#2\\right]}\\newcommand{argmin}{\\mathrm{argmin}}\\def\\rv{z}\\def\\reals{\\mathbb{R}}\\def\\pdf{\\rho}\\def\\rvdom{\\Gamma}\\def\\coloneqq{\\colon=}\\newcommand{norm}{\\lVert #1 \\rVert}\\def\\argmax{\\operatorname{argmax}}\\def\\ai{\\alpha}\\def\\bi{\\beta}\\newcommand{\\dx}[1]{\\;\\mathrm{d}#1}$$"
      ]
    },
    {
      "cell_type": "code",
      "execution_count": null,
      "metadata": {
        "collapsed": false
      },
      "outputs": [],
      "source": [
        "%matplotlib inline"
      ]
    },
    {
      "cell_type": "markdown",
      "metadata": {},
      "source": [
        "\n# Sparse Grid Interpolation\n\nWe will use the Cantilever Beam benchmark to illustrate how to use a sparse grid\nas a surrogate for uncertainty quantification and sensitivity analysis\n\n.. figure:: ../../source/figures/cantilever-beam.png\n   :align: center\n\n   Conceptual model of the cantilever-beam\n\n.. table:: Uncertain variables\n   :align: center\n\n   =============== ========= =======================\n   Uncertainty     Symbol    Prior\n   =============== ========= =======================\n   Yield stress    $R$ $N(40000,2000)$\n   Young's modulus $E$ $N(2.9e7,1.45e6)$\n   Horizontal load $X$ $N(500,100)$\n   Vertical Load   $Y$ $N(1000,100)$\n   =============== ========= =======================\n\n\n.. table:: Design variables\n   :align: center\n\n   =============== ========= =======================\n   Uncertainty     Symbol    Range\n   =============== ========= =======================\n   Width           $w$ $[1, 4]$\n   Thickness       $t$ $[1, 4]$\n   =============== ========= =======================\n\nFirst we must load the benchmark\n"
      ]
    },
    {
      "cell_type": "code",
      "execution_count": null,
      "metadata": {
        "collapsed": false
      },
      "outputs": [],
      "source": [
        "import numpy as np\nfrom pyapprox.benchmarks import setup_benchmark\nfrom pyapprox.variables import combine_uncertain_and_bounded_design_variables\nfrom pyapprox import surrogates\nfrom pyapprox.analysis import visualize\nfrom pyapprox import util\nimport matplotlib.pyplot as plt\nbenchmark = setup_benchmark('cantilever_beam')\nnp.random.seed(1)"
      ]
    },
    {
      "cell_type": "markdown",
      "metadata": {},
      "source": [
        "The cantilever beam model is an optimization benchmark. Consequently it\ndefines random and design variables. All surrogates require random variable\ninformation so we define a new variable for this purpose\n\n"
      ]
    },
    {
      "cell_type": "code",
      "execution_count": null,
      "metadata": {
        "collapsed": false
      },
      "outputs": [],
      "source": [
        "variable = combine_uncertain_and_bounded_design_variables(\n    benchmark.variable, benchmark.design_variable)"
      ]
    },
    {
      "cell_type": "markdown",
      "metadata": {},
      "source": [
        "So lets just approximate the contraint function.\n\nWe can set a maximum number of samples using the options dictionary\n\n"
      ]
    },
    {
      "cell_type": "code",
      "execution_count": null,
      "metadata": {
        "collapsed": false
      },
      "outputs": [],
      "source": [
        "options = {\"max_nsamples\": 1000}\napprox = surrogates.adaptive_approximate(\n    benchmark.constraint_fun, variable, \"sparse_grid\", options).approx"
      ]
    },
    {
      "cell_type": "markdown",
      "metadata": {},
      "source": [
        "Plot the sparse grid samples with\n\n"
      ]
    },
    {
      "cell_type": "code",
      "execution_count": null,
      "metadata": {
        "collapsed": false
      },
      "outputs": [],
      "source": [
        "sparse_grid_samples = approx.get_samples()\nutil.plot_2d_samples(sparse_grid_samples, marker='o')\nplt.show()"
      ]
    },
    {
      "cell_type": "markdown",
      "metadata": {},
      "source": [
        "We can estimate the error in the surrogate using some validation samples.\n\n"
      ]
    },
    {
      "cell_type": "code",
      "execution_count": null,
      "metadata": {
        "collapsed": false
      },
      "outputs": [],
      "source": [
        "validation_samples = variable.rvs(100)\nvalidation_values = benchmark.constraint_fun(validation_samples)\napprox_values = approx(validation_samples)\nerror = np.linalg.norm(validation_values-approx_values, axis=0)/np.sqrt(\n    validation_values.shape[0])\nprint(f\"The RMSE error is {error}\")"
      ]
    },
    {
      "cell_type": "markdown",
      "metadata": {},
      "source": [
        "and building a kernel density estimator. Lets first just plot the marginal\nPDFs of the output\n\n"
      ]
    },
    {
      "cell_type": "code",
      "execution_count": null,
      "metadata": {
        "collapsed": false
      },
      "outputs": [],
      "source": [
        "surrogate_samples = variable.rvs(10000)\napprox_values = approx(surrogate_samples)\nvisualize.plot_qoi_marginals(approx_values)\nplt.show()"
      ]
    }
  ],
  "metadata": {
    "kernelspec": {
      "display_name": "Python 3",
      "language": "python",
      "name": "python3"
    },
    "language_info": {
      "codemirror_mode": {
        "name": "ipython",
        "version": 3
      },
      "file_extension": ".py",
      "mimetype": "text/x-python",
      "name": "python",
      "nbconvert_exporter": "python",
      "pygments_lexer": "ipython3",
      "version": "3.8.11"
    }
  },
  "nbformat": 4,
  "nbformat_minor": 0
}