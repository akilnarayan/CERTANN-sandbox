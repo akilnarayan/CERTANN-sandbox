{
  "cells": [
    {
      "cell_type": "code",
      "execution_count": null,
      "metadata": {
        "collapsed": false
      },
      "outputs": [],
      "source": [
        "Add latex macros$$\\newcommand{\\V}[1]{{\\boldsymbol{#1}}}\\newcommand{mean}[1]{{\\mathbb{E}\\left[#1\\right]}}\\newcommand{var}[1]{{\\mathbb{V}\\left[#1\\right]}}\\newcommand{covar}[2]{\\mathbb{C}\\text{ov}\\left[#1,#2\\right]}\\newcommand{corr}[2]{\\mathbb{C}\\text{or}\\left[#1,#2\\right]}\\newcommand{argmin}{\\mathrm{argmin}}\\def\\rv{z}\\def\\reals{\\mathbb{R}}\\def\\pdf{\\rho}\\def\\rvdom{\\Gamma}\\def\\coloneqq{\\colon=}\\newcommand{norm}{\\lVert #1 \\rVert}\\def\\argmax{\\operatorname{argmax}}\\def\\ai{\\alpha}\\def\\bi{\\beta}\\newcommand{\\dx}[1]{\\;\\mathrm{d}#1}$$"
      ]
    },
    {
      "cell_type": "markdown",
      "metadata": {},
      "source": [
        "\n# Sparse Grid Interpolation\n\nWe will use the Genz benchmark to illustrate how to use a sparse grid\nas a surrogate for uncertainty quantification and sensitivity analysis\n\nFirst we must load the benchmark\n"
      ]
    },
    {
      "cell_type": "code",
      "execution_count": null,
      "metadata": {
        "collapsed": false
      },
      "outputs": [],
      "source": [
        "import numpy as np\nfrom pyapprox.benchmarks import setup_benchmark\nfrom pyapprox import surrogates\nfrom pyapprox.analysis import visualize\nfrom pyapprox import util\nimport matplotlib.pyplot as plt\nbenchmark = setup_benchmark('genz', nvars=2, test_name=\"oscillatory\")\nnp.random.seed(1)\n\n#We can set a maximum number of samples using the options dictionary\noptions = {\"max_nsamples\": 100, \"verbose\": 0}\napprox = surrogates.adaptive_approximate(\n    benchmark.fun, benchmark.variable, \"sparse_grid\", options).approx"
      ]
    },
    {
      "cell_type": "markdown",
      "metadata": {},
      "source": [
        "Plot the sparse grid samples with\n\n"
      ]
    },
    {
      "cell_type": "code",
      "execution_count": null,
      "metadata": {
        "collapsed": false
      },
      "outputs": [],
      "source": [
        "sparse_grid_samples = approx.get_samples()\nutil.plot_2d_samples(sparse_grid_samples, marker='o')\nplt.show()"
      ]
    },
    {
      "cell_type": "markdown",
      "metadata": {},
      "source": [
        "We can estimate the error in the surrogate using some validation samples.\n\n"
      ]
    },
    {
      "cell_type": "code",
      "execution_count": null,
      "metadata": {
        "collapsed": false
      },
      "outputs": [],
      "source": [
        "validation_samples = benchmark.variable.rvs(100)\nvalidation_values = benchmark.fun(validation_samples)\napprox_values = approx(validation_samples)\nerror = np.linalg.norm(validation_values-approx_values, axis=0)/np.sqrt(\n    validation_values.shape[0])\nprint(f\"The RMSE error is {error}\")"
      ]
    },
    {
      "cell_type": "markdown",
      "metadata": {},
      "source": [
        "and building a kernel density estimator. Lets first just plot the marginal\nPDFs of the output\n\n"
      ]
    },
    {
      "cell_type": "code",
      "execution_count": null,
      "metadata": {
        "collapsed": false
      },
      "outputs": [],
      "source": [
        "surrogate_samples = benchmark.variable.rvs(10000)\napprox_values = approx(surrogate_samples)\nvisualize.plot_qoi_marginals(approx_values)\nplt.show()"
      ]
    }
  ],
  "metadata": {
    "kernelspec": {
      "display_name": "Python 3",
      "language": "python",
      "name": "python3"
    },
    "language_info": {
      "codemirror_mode": {
        "name": "ipython",
        "version": 3
      },
      "file_extension": ".py",
      "mimetype": "text/x-python",
      "name": "python",
      "nbconvert_exporter": "python",
      "pygments_lexer": "ipython3",
      "version": "3.10.11"
    }
  },
  "nbformat": 4,
  "nbformat_minor": 0
}