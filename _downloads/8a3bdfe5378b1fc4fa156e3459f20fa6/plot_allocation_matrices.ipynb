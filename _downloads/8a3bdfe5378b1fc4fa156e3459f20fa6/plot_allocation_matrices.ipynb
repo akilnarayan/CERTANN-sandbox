{
  "cells": [
    {
      "cell_type": "code",
      "execution_count": null,
      "metadata": {
        "collapsed": false
      },
      "outputs": [],
      "source": [
        "Add latex macros$$\\newcommand{\\V}[1]{{\\boldsymbol{#1}}}\\newcommand{mean}[1]{{\\mathbb{E}\\left[#1\\right]}}\\newcommand{var}[1]{{\\mathbb{V}\\left[#1\\right]}}\\newcommand{covar}[2]{\\mathbb{C}\\text{ov}\\left[#1,#2\\right]}\\newcommand{corr}[2]{\\mathbb{C}\\text{or}\\left[#1,#2\\right]}\\newcommand{argmin}{\\mathrm{argmin}}\\def\\rv{z}\\def\\reals{\\mathbb{R}}\\def\\rvset{{\\mathcal{Z}}}\\def\\pdf{\\rho}\\def\\rvdom{\\Gamma}\\def\\coloneqq{\\colon=}\\newcommand{norm}{\\lVert #1 \\rVert}\\def\\argmax{\\operatorname{argmax}}\\def\\ai{\\alpha}\\def\\bi{\\beta}\\newcommand{\\dx}[1]{\\;\\text{d}#1}\\newcommand{\\mat}[1]{{\\boldsymbol{\\mathrm{#1}}}}$$"
      ]
    },
    {
      "cell_type": "markdown",
      "metadata": {},
      "source": [
        "\n# Approximate Control Variate Allocation Matrices\n\nOptimizing and constructing PACV estimators requires estimating $\\covar{Q_0}{\\Delta}$ and $\\covar{\\Delta}{\\Delta}$ which depend on the statistical properties of the models being used but also on the sample alloaction  how independent sample sets are shared among the sample sets $\\rvset_\\alpha\\text{ and }\\rvset_\\alpha^*$.\n\nFor example, when computing the mean of a scalar model when the covariance  between models is given by $\\mat{C}$ and the first row of $\\mat{C}$ is $\\mat{c}$ then\n\n\\begin{align}\\covar{Q_0}{\\mat{\\Delta}} = \\mat{g} \\circ \\mat{c}\\end{align}\n\n\\begin{align}g_i = \\frac{N_{i^*\\cap 0}}{N_{i^*}N_0}-\\frac{N_{i\\cap 0}}{N_{i}N_0}, \\qquad i=1,\\ldots,M\\end{align}\n\nand \n\n\\begin{align}\\covar{\\mat{\\Delta}}{\\mat{\\Delta}} = \\mat{G} \\circ \\mat{C}\\end{align}\n\n\\begin{align}G_{ij} = \\frac{N_{i^*\\cap j^*}}{N_{i^*}N_{j^*}}-\\frac{N_{i^*\\cap j}}{N_{i^*}N_j}-\\frac{N_{i\\cap j^*}}{N_{i}N_{j^*}}+\\frac{N_{i\\cap j}}{N_{i}N_j}, \\qquad i,j=1,\\ldots,M\\end{align}\n\nwhere $\\circ$ is the Haddamard (element-wise) product.\n\n\nThe implementation of PACV uses allocation matrices $\\mat{A}$ that encode how independent sample sets are shared among the sample sets $\\rvset_\\alpha\\text{ and }\\rvset_\\alpha^*$.\n\nFor example, the allocation matrix of ACVMF using $M=3$ low-fidelity models (GMF with recursion index $(0,0,0)$) is\n\n\\begin{align}\\mat{A}=\\begin{bmatrix}\n   0 & 1 & 1 & 1 & 1 & 1 & 1 & 1\\\\\n   0 & 0 & 0 & 1 & 0 & 1 & 0 & 1\\\\\n   0 & 0 & 0 & 0 & 0 & 1 & 0 & 1\\\\\n   0 & 0 & 0 & 0 & 0 & 0 & 0 & 1\n   \\end{bmatrix}\\end{align}\n\nAn entry of one indicates in the ith row of the jth column indicates that the ith independent sample set is used in the corresponding set $\\rvset_j$ if j is odd or $\\rvset_j^*$ if j is even. The first column will always only contain zeros because the set $\\rvset_0^*$ is never used by ACV estimators.\n\n\nNote, here we focus on how to construct and use allocation matrices for ACVMF like PACV estimtors. However, much of the discussion carries over to other estimators like those based on recursive difference and ACVIS.\n\n\nThe allocation matrix together with the number of points $\\mat{p}=[p_0,\\ldots,p_M]^\\top$ in the each independent sample set which we call partitions can be used to determine the  number of points in the intersection of the sets  $\\rvset_\\alpha\\text{ and }\\rvset_\\beta$, where $\\alpha\\text{ and }\\beta$ may be unstarred or starred. Intersection matrices are used to compute $\\covar{Q_0}{\\Delta}$ and $\\covar{\\Delta}{\\Delta}$.\nThe number of intersection points can be represented by a $2(M+1)\\times 2(M+1)$ matrix\n\n\\begin{align}\\mat{B}=\\begin{bmatrix}\n   0 & 0 & 0 & 0 & 0 & 0 & 0 & 0\\\\\n   0 & N_{0\\cup 0} & N_{0\\cup 1} & N_{0\\cup 1^*} & N_{0\\cup 2} & N_{0\\cup 2^*} &  N_{0\\cup 3} & N_{0\\cup 3^*}\\\\\n   0 & N_{1^*\\cup 0} & N_{1^*\\cup 1^*} & N_{1^*\\cup 1} & N_{1^*\\cup 2^*} & N_{1^*\\cup 2} &  N_{1^*\\cup 3^*} & N_{1^*\\cup 3}\\\\\n   0 & N_{1\\cup 0} & N_{1\\cup 1^*} & N_{1\\cup 1} & N_{1\\cup 2^*} & N_{1\\cup 2} &  N_{1\\cup 3^*} & N_{1\\cup 3}\\\\\n   \\vdots &\\vdots &\\vdots &\\vdots &\\vdots &\\vdots &\\vdots &\\vdots\\\\\n   0 & N_{3^\\star\\cup 0} & N_{3^\\star\\cup 1^*} & N_{3^\\star\\cup 1} & N_{3^\\star\\cup 2^*} & N_{3^\\star\\cup 2} &  N_{3^\\star\\cup 3^*} & N_{3^\\star\\cup 3}\\\\\n   0 & N_{3\\cup 0} & N_{3\\cup 1^*} & N_{3\\cup 1} & N_{3\\cup 2^*} & N_{3\\cup 2} &  N_{3\\cup 3^*} & N_{3\\cup 3}\n   \\end{bmatrix}\\end{align}\n\nDefining\n\n\n\\begin{align}\\mat{S}=\\text{Diag}(\\mat{p})\\mat{A},\\end{align}\n\neach entry of B can be computed using\n\n\\begin{align}B_{ij}=\\sum_{k=0}^{2M+1} S_{kj} \\chi[A_{ki}]\\end{align}\n\nwhere\n\n\\begin{align}\\chi[A_{ki}]=\\begin{cases} 1 & A_{ki}=1 \\\\ 0 & A_{ki}=0 \\end{cases}\\end{align}\n\n\nNote computing $\\covar{Q_0}{\\Delta}$ and $\\covar{\\Delta}{\\Delta}$ also requires the number of samples $N_\\alpha$,  $N_{\\alpha^*}$ in each ACV sample set $\\rvset_\\alpha,\\rvset_\\alpha^*$ which can be computed by simply summing the rows of S or more simply extracting the relevant entry from the diagonal of B. For example\n\n\\begin{align}N_3 = N_{3\\cap3} \\text{ and }  N_{3^*} = N_{3^*\\cap3^*}\\end{align}\n\nFinally, to compute the computational cost of the estimator we must be able to compute the number of samples per model.\nThe number of samples of the ith\n\n\\begin{align}\\sum_{k=1}^M p_{k}\\chi[A_{2i,k}+A_{2i+1,k}]\\end{align}\n\nwhere $\\chi[A_{2i,k}+A_{2i+1,k}]=1$ if $A_{2i,k}+A_{2i+1,k}>0$ and is zero otherwise.\n\nUsing our example, the intersection matrix is\n\n\\begin{align}\\mat{p} = [2, 3, 4, 5]\\end{align}\n\n\\begin{align}\\mat{S}=\\begin{bmatrix}\n   0 & 2 & 2 & 2 & 2 & 2 & 2 & 2\\\\\n   0 & 0 & 0 & 3 & 0 & 3 & 0 & 3\\\\\n   0 & 0 & 0 & 0 & 0 & 4 & 0 & 4\\\\\n   0 & 0 & 0 & 0 & 0 & 5 & 0 & 0\n   \\end{bmatrix}\\end{align}\n\nSo summing each column of S we have\n\n\\begin{align}N_0^*=0, N_0=2,  N_1^*=2, N_1=5,  N_2^*=2, N_2=14,  N_3^*=2, N_3=9,\\end{align}\n\nAnd \n\n\\begin{align}\\mat{B}=\\begin{bmatrix}\n  0 &  0 &  0 &  0 &  0 &  0 &  0 &  0 \\\\\n  0 &  2 &  2 &  2 &  2 &  2 &  2 &  2 \\\\\n  0 &  2 &  2 &  2 &  2 &  2 &  2 &  2 \\\\\n  0 &  2 &  2 &  5 &  2 &  5 &  2 &  5 \\\\\n  0 &  2 &  2 &  2 &  2 &  2 &  2 &  2 \\\\\n  0 &  2 &  2 &  5 &  2 & 14 &  2 &  9 \\\\\n  0 &  2 &  2 &  2 &  2 &  2 &  2 &  2 \\\\\n  0 &  2 &  2 &  5 &  2 &  9 &  2 &  9\n   \\end{bmatrix}\\end{align}\n\n\nThe first row and column are all zero because $\\rvset_0^*$ is always empty.\n\nAs an example the thrid entry from the right on the bottom row corresponds to $B_{75}=N_{3\\cup 2}$ which is computed by finding the rows in R that have non zero entries which are the first three rows. Then the $B_{75}$ is the sum of these rows in the 5 column of S, i.e. $2+3+4=9$.\n\n## Examples of different allocation matrices\nThe following lists some example alloaction matrices for the\nparameterically defined ACV estimators based on the general structure of\nACVMF.\n\nMFMC $(0, 1, 2)$\n\n\\begin{align}\\begin{bmatrix}\n   0 & 1 & 1 & 1 & 1 & 1 & 1 & 1\\\\\n   0 & 0 & 0 & 1 & 1 & 1 & 1 & 1\\\\\n   0 & 0 & 0 & 0 & 0 & 1 & 1 & 1\\\\\n   0 & 0 & 0 & 0 & 0 & 0 & 0 & 1\n   \\end{bmatrix}\\end{align}\n\n\n$(0, 0, 1)$\n\n\\begin{align}\\begin{bmatrix}\n   0 & 1 & 1 & 1 & 1 & 1 & 1 & 1\\\\\n   0 & 0 & 0 & 1 & 0 & 1 & 1 & 1\\\\\n   0 & 0 & 0 & 0 & 0 & 1 & 0 & 1\\\\\n   0 & 0 & 0 & 0 & 0 & 0 & 0 & 1\n   \\end{bmatrix}\\end{align}\n\n$(0, 0, 2)$\n\n\\begin{align}\\begin{bmatrix}\n   0 & 1 & 1 & 1 & 1 & 1 & 1 & 1\\\\\n   0 & 0 & 0 & 1 & 0 & 1 & 1 & 1\\\\\n   0 & 0 & 0 & 0 & 0 & 1 & 1 & 1\\\\\n   0 & 0 & 0 & 0 & 0 & 0 & 0 & 1\n   \\end{bmatrix}\\end{align}\n\n\n$(0, 1, 1)$\n\n\\begin{align}\\begin{bmatrix}\n   0 & 1 & 1 & 1 & 1 & 1 & 1 & 1\\\\\n   0 & 0 & 0 & 1 & 1 & 1 & 1 & 1\\\\\n   0 & 0 & 0 & 0 & 0 & 1 & 0 & 1\\\\\n   0 & 0 & 0 & 0 & 0 & 0 & 0 & 1\n   \\end{bmatrix}\\end{align}\n\n## How to construct ACVMF like allocation matrices\nThe following shows the general procedure to construct ACVMF like estimators for a recursion index\n\n\\begin{align}\\gamma=(\\gamma_1,\\ldots,\\gamma_M)\\end{align}\n\nAs a concrete example, consider the recursion index $\\gamma=(0, 0, 1)$.\n\nFirst we set $A_{2\\alpha+1,\\alpha}=1$ for all $\\alpha=0,\\ldots,M$\n\nE.g. for (0,0,1)\n\n\\begin{align}\\begin{bmatrix}\n  0 & 1 & 0 & 0 & 0 & 0 & 0 & 0 \\\\\n  0 & 0 & 0 & 1 & 0 & 0 & 0 & 0 \\\\\n  0 & 0 & 0 & 0 & 0 & 1 & 0 & 0 \\\\\n  0 & 0 & 0 & 0 & 0 & 0 & 0 & 1\n  \\end{bmatrix}\\end{align}\n\nWe then set $A_{2\\alpha,\\gamma_\\alpha}=1$ for $\\alpha=1,\\ldots,M$. For example,\n\n\\begin{align}\\begin{bmatrix}\\end{align}\n 0 & 1 & 1 & 0 & 1 & 0 & 0 & 0 \\\\\n 0 & 0 & 0 & 1 & 0 & 0 & 1 & 0 \\\\\n 0 & 0 & 0 & 0 & 0 & 1 & 0 & 0 \\\\\n 0 & 0 & 0 & 0 & 0 & 0 & 0 & 1\n   \\end{bmatrix}\n\nAnd finally because ACMF always uses all independent partitions up to including $\\gamma_\\alpha$ we set $A_{i,k}=1$, for $k=0,\\ldots,\\gamma_\\alpha$ and $\\forall i$. For example\n\n\\begin{align}\\begin{bmatrix}\\end{align}\n 0 & 1 & 1 & 1 & 1 & 1 & 1 & 1 \\\\\n 0 & 0 & 0 & 1 & 0 & 1 & 1 & 1 \\\\\n 0 & 0 & 0 & 0 & 0 & 1 & 0 & 1 \\\\\n 0 & 0 & 0 & 0 & 0 & 0 & 0 & 1\n   \\end{bmatrix}\n\nThe following can be used to plot the allocation matrix of any PACV estimator (not just GMF). Note we load a benchmark because it is needed to initialize the PACV estimator, but the allocation matrix is independent of any benchmark properties other than the number of models it provides\n"
      ]
    },
    {
      "cell_type": "code",
      "execution_count": null,
      "metadata": {
        "collapsed": false
      },
      "outputs": [],
      "source": [
        "import matplotlib.pyplot as plt\n\nfrom pyapprox.benchmarks import setup_benchmark\nfrom pyapprox.multifidelity.factory import get_estimator, multioutput_stats\n\nbenchmark = setup_benchmark(\"tunable_model_ensemble\")\nmodel = benchmark.fun\n\nstat = multioutput_stats[\"mean\"](benchmark.nqoi)\nstat.set_pilot_quantities(benchmark.covariance)\nest = get_estimator(\"grd\", stat, model.costs(), recursion_index=(2, 0))\n\nax = plt.subplots(1, 1, figsize=(8, 6))[1]\n_ = est.plot_allocation(ax)"
      ]
    },
    {
      "cell_type": "markdown",
      "metadata": {},
      "source": [
        "The different colors represent different independent sample partitions. Subsets $\\rvset_\\alpha\\text{ or  }\\rvset_\\alpha^*$ having the same color, means that the same set of samples are used in each subset.\n\nTry changing recursion index to (0, 1) or (2, 0) and the estimator from \"gis\" to \"gmf\" or\" grd\"\n\n"
      ]
    },
    {
      "cell_type": "markdown",
      "metadata": {},
      "source": [
        "## Evaluating a PACV estimator\nAllocation matrices are also useful for evaluating a PACV estimator.\nTo evaluate the ACV estimator we must construct each independent sample partition from a set of $N_\\text{tot}$ samples $\\rvset_\\text{tot}$ where\n\n\\begin{align}N_\\text{tot}=\\sum_{\\alpha=0}^{M} p_\\alpha\\end{align}\n\nWe then must allocate each model on a subset of these samples dictated by the allocation matrix. For a model index $\\alpha$ we must evaluate a model at a independent partition k if $A_{2\\alpha, k}=1$ or $A_{2\\alpha+1, k}=1$. These correspond to the sets $\\rvset_{\\alpha}^*, \\rvset_{\\alpha}$. We store these active partitions in a flattened sample array for each model ordered by increasing partition index, which is passed to each user. E.g. if the partitions 0, 1, 3 are active then we store $[\\rvset_{0}^\\dagger, \\rvset_{1}^\\dagger, \\rvset_{3}^\\dagger]$ where the dagger indicates the samples sets are associated with partitions and not the estimator sets $\\rvset_{\\alpha^*}, \\rvset_{\\alpha}$.\n\nThe user can then evaluate each model without knowing anything about the ACV estimator sets or the independent partitions.\n\nThese model evaluations are then passed back to the estimator and internally we must assigne the values to each ACV estimator sample set. Specifically for each model $\\alpha$, we loop through all partition indices k and if $A_{2\\alpha,k}=1$ we assign $\\mathcal{f_\\alpha(\\rvset^\\dagger_k)}$ to $\\rvset_{\\alpha^*}$ similarly if $A_{2\\alpha+1,k}=1$ we assign $\\mathcal{f_\\alpha(\\rvset^\\dagger_k)}$ to $\\rvset_{\\alpha}$.\n\n"
      ]
    }
  ],
  "metadata": {
    "kernelspec": {
      "display_name": "Python 3",
      "language": "python",
      "name": "python3"
    },
    "language_info": {
      "codemirror_mode": {
        "name": "ipython",
        "version": 3
      },
      "file_extension": ".py",
      "mimetype": "text/x-python",
      "name": "python",
      "nbconvert_exporter": "python",
      "pygments_lexer": "ipython3",
      "version": "3.10.13"
    }
  },
  "nbformat": 4,
  "nbformat_minor": 0
}