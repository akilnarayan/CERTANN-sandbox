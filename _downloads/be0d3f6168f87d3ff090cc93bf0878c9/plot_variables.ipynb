{
  "cells": [
    {
      "cell_type": "code",
      "execution_count": null,
      "metadata": {
        "collapsed": false
      },
      "outputs": [],
      "source": [
        "Add latex macros$$\\newcommand{\\V}[1]{{\\boldsymbol{#1}}}\\newcommand{mean}[1]{{\\mathbb{E}\\left[#1\\right]}}\\newcommand{var}[1]{{\\mathbb{V}\\left[#1\\right]}}\\newcommand{covar}[2]{\\mathbb{C}\\text{ov}\\left[#1,#2\\right]}\\newcommand{corr}[2]{\\mathbb{C}\\text{or}\\left[#1,#2\\right]}\\newcommand{argmin}{\\mathrm{argmin}}\\def\\rv{z}\\def\\reals{\\mathbb{R}}\\def\\pdf{\\rho}\\def\\rvdom{\\Gamma}\\def\\coloneqq{\\colon=}\\newcommand{norm}{\\lVert #1 \\rVert}\\def\\argmax{\\operatorname{argmax}}\\def\\ai{\\alpha}\\def\\bi{\\beta}\\newcommand{\\dx}[1]{\\;\\mathrm{d}#1}$$"
      ]
    },
    {
      "cell_type": "markdown",
      "metadata": {},
      "source": [
        "\n# Random Variables\nThis tutorial describes how to create multivariate random variable objects.\n\nPyApprox supports multivariate random variables comprised of\nindependent univariate variables. Such variables can be defined from a list of\nscipy.stats variable objects. To create a Beta random variable defined on $[0, 1]\\times[1, 2]$\n"
      ]
    },
    {
      "cell_type": "code",
      "execution_count": null,
      "metadata": {
        "collapsed": false
      },
      "outputs": [],
      "source": [
        "from pyapprox.variables import IndependentMarginalsVariable\nfrom scipy import stats\nmarginals = [stats.beta(2, 3, loc=0, scale=1),\n             stats.beta(5, 2, loc=1, scale=1)]\nvariable = IndependentMarginalsVariable(marginals)"
      ]
    },
    {
      "cell_type": "markdown",
      "metadata": {},
      "source": [
        "A summary of the random variable can be printed using\n\n"
      ]
    },
    {
      "cell_type": "code",
      "execution_count": null,
      "metadata": {
        "collapsed": false
      },
      "outputs": [],
      "source": [
        "print(variable)"
      ]
    },
    {
      "cell_type": "markdown",
      "metadata": {},
      "source": [
        "To generate random samples from the multivariate variable use\n\n"
      ]
    },
    {
      "cell_type": "code",
      "execution_count": null,
      "metadata": {
        "collapsed": false
      },
      "outputs": [],
      "source": [
        "nsamples = 10\nsamples = variable.rvs(nsamples)"
      ]
    },
    {
      "cell_type": "markdown",
      "metadata": {},
      "source": [
        "For such 2D variables comprised of continuous univariate random variables we\ncan evaluate the joint probability density function (PDF) at a set of samples\nusing\n\n"
      ]
    },
    {
      "cell_type": "code",
      "execution_count": null,
      "metadata": {
        "collapsed": false
      },
      "outputs": [],
      "source": [
        "pdf_vals = variable.pdf(samples)\nprint(pdf_vals)"
      ]
    },
    {
      "cell_type": "markdown",
      "metadata": {},
      "source": [
        "Any statistics, supported by the univariate scipy.stats variables,\ncan be accessed for all 1D variabels using\n:func:`pyapprox.variables.IndependentMarginalsVariable.get_statistics`\nFor example,\n\n"
      ]
    },
    {
      "cell_type": "code",
      "execution_count": null,
      "metadata": {
        "collapsed": false
      },
      "outputs": [],
      "source": [
        "mean = variable.get_statistics(\"mean\")\nvariance = variable.get_statistics(\"var\")\nprint(\"Mean\", mean)\nprint(\"Variance\", variance)"
      ]
    },
    {
      "cell_type": "markdown",
      "metadata": {},
      "source": [
        "Note, by convention PyApprox tries to always return 2D numpy arrays, e.g.\nhere we are returning a column vector. Sometimes this is not possible\nbecause some functions in other packages, such as SciPy, require input as 1D\narrays.\n\nWe can also plot the joint PDF and overlay the random samples.\nGiven a number of 1D samples specified by the user, the following plots\nevaluates the PDF (or any 2D function) on a cartesian grid of these 1D samples\ndefined on the bounded ranges of the random variables. If some univariate\nvariables are unbounded then the range corresponding to a fraction of\nthe total probability will be used. See the documentation at\n:func:`pyapprox.util.visualization.get_meshgrid_function_data_from_variable`\n\n"
      ]
    },
    {
      "cell_type": "code",
      "execution_count": null,
      "metadata": {
        "collapsed": false
      },
      "outputs": [],
      "source": [
        "from pyapprox.analysis.visualize import (\n    get_meshgrid_function_data_from_variable)\nnplot_pts_1d = 50\nX, Y, Z = get_meshgrid_function_data_from_variable(\n    variable.pdf, variable, nplot_pts_1d)"
      ]
    },
    {
      "cell_type": "markdown",
      "metadata": {},
      "source": [
        "Here we will create 2D subplots, a contour plot and a surface plot\n\n"
      ]
    },
    {
      "cell_type": "code",
      "execution_count": null,
      "metadata": {
        "collapsed": false
      },
      "outputs": [],
      "source": [
        "from pyapprox.util.configure_plots import plt\nimport numpy as np\nncontours = 20\nfig = plt.figure(figsize=(2*8, 6))\nax0 = fig.add_subplot(1, 2, 1)\nax0.plot(samples[0, :], samples[1, :], 'ro')\nax0.contourf(\n    X, Y, Z, levels=np.linspace(Z.min(), Z.max(), ncontours))\nax1 = fig.add_subplot(1, 2, 2, projection='3d')\nax1.plot_surface(X, Y, Z)\nplt.show()"
      ]
    },
    {
      "cell_type": "markdown",
      "metadata": {},
      "source": [
        "We can also generate samples using Gaussian copulas. First specify the\n marginals and the correlation between them\n\n"
      ]
    },
    {
      "cell_type": "code",
      "execution_count": null,
      "metadata": {
        "collapsed": false
      },
      "outputs": [],
      "source": [
        "from pyapprox.variables import GaussCopulaVariable\nmarginals = [stats.beta(a=2, b=5), stats.beta(a=5, b=2)]\nx_correlation = np.array([[1, 0.9], [0.9, 1]])\nvariable = GaussCopulaVariable(marginals, x_correlation)"
      ]
    },
    {
      "cell_type": "code",
      "execution_count": null,
      "metadata": {
        "collapsed": false
      },
      "outputs": [],
      "source": [
        "samples = variable.rvs(nsamples)\nnplot_pts_1d = 50\nX, Y, Z = get_meshgrid_function_data_from_variable(\n    variable.pdf, variable, nplot_pts_1d)\nncontours = 20\nfig = plt.figure(figsize=(2*8, 6))\nax0 = fig.add_subplot(1, 2, 1)\nax0.plot(samples[0, :], samples[1, :], 'ro')\nax0.contourf(\n    X, Y, Z, levels=np.linspace(Z.min(), Z.max(), ncontours))\nax1 = fig.add_subplot(1, 2, 2, projection='3d')\nax1.plot_surface(X, Y, Z)\nplt.show()"
      ]
    }
  ],
  "metadata": {
    "kernelspec": {
      "display_name": "Python 3",
      "language": "python",
      "name": "python3"
    },
    "language_info": {
      "codemirror_mode": {
        "name": "ipython",
        "version": 3
      },
      "file_extension": ".py",
      "mimetype": "text/x-python",
      "name": "python",
      "nbconvert_exporter": "python",
      "pygments_lexer": "ipython3",
      "version": "3.9.17"
    }
  },
  "nbformat": 4,
  "nbformat_minor": 0
}