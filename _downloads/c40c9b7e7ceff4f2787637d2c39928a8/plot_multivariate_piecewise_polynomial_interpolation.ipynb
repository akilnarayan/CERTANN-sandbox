{
  "cells": [
    {
      "cell_type": "markdown",
      "metadata": {},
      "source": [
        "Add latex macros$$\\newcommand{\\V}[1]{{\\boldsymbol{#1}}}\\newcommand{mean}[1]{{\\mathbb{E}\\left[#1\\right]}}\\newcommand{var}[1]{{\\mathbb{V}\\left[#1\\right]}}\\newcommand{covar}[2]{\\mathbb{C}\\text{ov}\\left[#1,#2\\right]}\\newcommand{corr}[2]{\\mathbb{C}\\text{or}\\left[#1,#2\\right]}\\newcommand{argmin}{\\mathrm{argmin}}\\def\\rv{z}\\def\\reals{\\mathbb{R}}\\def\\pdf{\\rho}\\def\\rvdom{\\Gamma}\\def\\coloneqq{\\colon=}\\newcommand{norm}{\\lVert #1 \\rVert}\\def\\argmax{\\operatorname{argmax}}\\def\\ai{\\alpha}\\def\\bi{\\beta}\\newcommand{\\dx}[1]{\\;\\mathrm{d}#1}$$"
      ]
    },
    {
      "cell_type": "code",
      "execution_count": null,
      "metadata": {
        "collapsed": false
      },
      "outputs": [],
      "source": [
        "%matplotlib inline"
      ]
    },
    {
      "cell_type": "markdown",
      "metadata": {},
      "source": [
        "\n# Multivariate Piecewise Polynomial Interpolation\nPiecewise polynomial interpolation can efficiently approximation functions\nwith low smoothness, e.g. piecewise continuous functions. Here we will use\npiecewise quadratic polynomials to interpolate the discontinuous Genz\nbenchmark. The function interpolates functions on tensor-products of\n1D equidistant grids. The number of points in the grid doubles with each level.\nHere levels specifies the level of each 1D grid\n"
      ]
    },
    {
      "cell_type": "code",
      "execution_count": null,
      "metadata": {
        "collapsed": false
      },
      "outputs": [],
      "source": [
        "import numpy as np\nfrom functools import partial\nfrom pyapprox.benchmarks import setup_benchmark\nfrom pyapprox.analysis import visualize\nfrom pyapprox import surrogates\n\nbenchmark = setup_benchmark(\"genz\", test_name=\"discontinuous\", nvars=2)\n\nlevels = [5, 5]\ninterp_fun = partial(\n    surrogates.tensor_product_piecewise_polynomial_interpolation,\n    levels=levels, fun=benchmark.fun, basis_type=\"quadratic\")\n\nX, Y, Z = visualize.get_meshgrid_function_data_from_variable(\n    interp_fun, benchmark.variable, 50)\nfig, axs = visualize.plt.subplots(1, 2, figsize=(2*8, 6))\naxs[0].contourf(X, Y, Z, levels=np.linspace(Z.min(), Z.max(), 20))"
      ]
    },
    {
      "cell_type": "markdown",
      "metadata": {},
      "source": [
        "To plot the difference between the interpolant and the target function use\n\n"
      ]
    },
    {
      "cell_type": "code",
      "execution_count": null,
      "metadata": {
        "collapsed": false
      },
      "outputs": [],
      "source": [
        "X, Y, Z = visualize.get_meshgrid_function_data_from_variable(\n    lambda x: interp_fun(x)-benchmark.fun(x), benchmark.variable, 50)\naxs[1].contourf(X, Y, Z, levels=np.linspace(Z.min(), Z.max(), 20))\nvisualize.plt.show()"
      ]
    }
  ],
  "metadata": {
    "kernelspec": {
      "display_name": "Python 3",
      "language": "python",
      "name": "python3"
    },
    "language_info": {
      "codemirror_mode": {
        "name": "ipython",
        "version": 3
      },
      "file_extension": ".py",
      "mimetype": "text/x-python",
      "name": "python",
      "nbconvert_exporter": "python",
      "pygments_lexer": "ipython3",
      "version": "3.8.11"
    }
  },
  "nbformat": 4,
  "nbformat_minor": 0
}