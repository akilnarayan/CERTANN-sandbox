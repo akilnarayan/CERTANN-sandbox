{
  "cells": [
    {
      "cell_type": "code",
      "execution_count": null,
      "metadata": {
        "collapsed": false
      },
      "outputs": [],
      "source": [
        "Add latex macros$$\\newcommand{\\V}[1]{{\\boldsymbol{#1}}}\\newcommand{mean}[1]{{\\mathbb{E}\\left[#1\\right]}}\\newcommand{var}[1]{{\\mathbb{V}\\left[#1\\right]}}\\newcommand{covar}[2]{\\mathbb{C}\\text{ov}\\left[#1,#2\\right]}\\newcommand{corr}[2]{\\mathbb{C}\\text{or}\\left[#1,#2\\right]}\\newcommand{argmin}{\\mathrm{argmin}}\\def\\rv{z}\\def\\reals{\\mathbb{R}}\\def\\pdf{\\rho}\\def\\rvdom{\\Gamma}\\def\\coloneqq{\\colon=}\\newcommand{norm}{\\lVert #1 \\rVert}\\def\\argmax{\\operatorname{argmax}}\\def\\ai{\\alpha}\\def\\bi{\\beta}\\newcommand{\\dx}[1]{\\;\\mathrm{d}#1}$$"
      ]
    },
    {
      "cell_type": "markdown",
      "metadata": {},
      "source": [
        "\n# Multivariate Lagrange Interpolation\nFor smooth function Lagrange polynomials can be used to\ninterpolate univariate functions evaluated on a tensor-product grid.\nPyapprox uses the Barycentric formulation of Lagrange interpolation\nwhich is more efficient and stable than traditional Lagrange interpolation.\n\nWe must define the univariate grids that we will use to construct the\ntensor product grid. While technically Lagrange interpolation can be used with\nany 1D grids, it is better to use points well suited to polynomial\ninterpolation. Here we use the samples of a Gaussian quadrature rule.\n"
      ]
    },
    {
      "cell_type": "code",
      "execution_count": null,
      "metadata": {
        "collapsed": false
      },
      "outputs": [],
      "source": [
        "from scipy import stats\nimport numpy as np\nimport matplotlib.pyplot as plt\nfrom functools import partial\nfrom pyapprox import surrogates\nfrom pyapprox.analysis import visualize\nfrom pyapprox import variables\nfrom pyapprox import util\n\ndegree = 10\nmarginals = [stats.uniform(-1, 2), stats.uniform(-1, 2)]\ngrid_samples_1d = [surrogates.get_gauss_quadrature_rule_from_marginal(\n    rv, degree+1)(degree+1)[0] for rv in marginals]"
      ]
    },
    {
      "cell_type": "markdown",
      "metadata": {},
      "source": [
        "Now lets define the function we want to interpolate, e.g.\n$f(\\rv)=\\rv_1^2+\\rv_2^2$\n\n"
      ]
    },
    {
      "cell_type": "code",
      "execution_count": null,
      "metadata": {
        "collapsed": false
      },
      "outputs": [],
      "source": [
        "def fun(samples):\n    return np.sum(samples**2, axis=0)[:, None]\n\n\n##%\n#Now we will use partial to create a callable function that just takes\n#the samples at which we want to evaluate the interpolant\n#This function will evaluate fun on a tensor product grid internally\ninterp_fun = partial(\n    surrogates.tensor_product_barycentric_lagrange_interpolation,\n    grid_samples_1d, fun)\nvariable = variables.IndependentMarginalsVariable(marginals)\nX, Y, Z = visualize.get_meshgrid_function_data_from_variable(\n    interp_fun, variable, 50)\nfig, ax = plt.subplots(1, 1, figsize=(8, 6))\nax.contourf(X, Y, Z, levels=np.linspace(Z.min(), Z.max(), 20))\nutil.plot_2d_samples(\n    util.cartesian_product(grid_samples_1d), ax, marker='o', c='r')\nplt.show()"
      ]
    },
    {
      "cell_type": "markdown",
      "metadata": {},
      "source": [
        "Barycentric interpolation can be used for any number of variables. However,\nthe number of evaluations of the target function grows exponentially with\nthe number of variables\n\n"
      ]
    }
  ],
  "metadata": {
    "kernelspec": {
      "display_name": "Python 3",
      "language": "python",
      "name": "python3"
    },
    "language_info": {
      "codemirror_mode": {
        "name": "ipython",
        "version": 3
      },
      "file_extension": ".py",
      "mimetype": "text/x-python",
      "name": "python",
      "nbconvert_exporter": "python",
      "pygments_lexer": "ipython3",
      "version": "3.10.11"
    }
  },
  "nbformat": 4,
  "nbformat_minor": 0
}