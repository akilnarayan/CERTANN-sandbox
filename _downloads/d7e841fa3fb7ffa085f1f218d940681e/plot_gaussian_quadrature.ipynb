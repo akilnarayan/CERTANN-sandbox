{
  "cells": [
    {
      "cell_type": "markdown",
      "metadata": {},
      "source": [
        "Add latex macros$$\\newcommand{\\V}[1]{{\\boldsymbol{#1}}}\\newcommand{mean}[1]{{\\mathbb{E}\\left[#1\\right]}}\\newcommand{var}[1]{{\\mathbb{V}\\left[#1\\right]}}\\newcommand{covar}[2]{\\mathbb{C}\\text{ov}\\left[#1,#2\\right]}\\newcommand{corr}[2]{\\mathbb{C}\\text{or}\\left[#1,#2\\right]}\\newcommand{argmin}{\\mathrm{argmin}}\\def\\rv{z}\\def\\reals{\\mathbb{R}}\\def\\rvset{{\\mathcal{Z}}}\\def\\pdf{\\rho}\\def\\rvdom{\\Gamma}\\def\\coloneqq{\\colon=}\\newcommand{norm}{\\lVert #1 \\rVert}\\def\\argmax{\\operatorname{argmax}}\\def\\ai{\\alpha}\\def\\bi{\\beta}\\newcommand{\\dx}[1]{\\;\\text{d}#1}\\newcommand{\\mat}[1]{{\\boldsymbol{\\mathrm{#1}}}}$$"
      ]
    },
    {
      "cell_type": "markdown",
      "metadata": {},
      "source": [
        "\n# Univariate Gaussian Quadrature\nUnivariate Gaussian quadrature can be used to efficiently integrate\nsmooth one-dimensional functions. While numpy supports Hermite and Legendre\nGaussian qurature, Pyapprox can generate Gaussian quadrature rules for\nany continouous random variable implemented in scipy.stats.\n\nTo generate a univariate quadrature rule for uniform random variables\n"
      ]
    },
    {
      "cell_type": "code",
      "execution_count": null,
      "metadata": {
        "collapsed": false
      },
      "outputs": [],
      "source": [
        "from pyapprox import surrogates\nfrom scipy import stats\ndegree = 10\n\nscipy_var = stats.uniform(-1, 2)\nquad_rule = surrogates.get_gauss_quadrature_rule_from_marginal(\n    scipy_var, degree+1)\nx_quad, w_quad = quad_rule(5)"
      ]
    },
    {
      "cell_type": "markdown",
      "metadata": {},
      "source": [
        "As an example, we can use this quadrature rule to integrate $\\rv^2$\nwith repsect to the uniform PDF on [-1, 1], i.e. 1/2\n\n"
      ]
    },
    {
      "cell_type": "code",
      "execution_count": null,
      "metadata": {
        "collapsed": false
      },
      "outputs": [],
      "source": [
        "values = x_quad**2\nintegral = values.dot(w_quad)\nprint(integral)"
      ]
    },
    {
      "cell_type": "markdown",
      "metadata": {},
      "source": [
        "The quadrature recovers the integral value of 1/3 to machine precision. Note\nunlike :class:`~numpy.polynomial.legendre.leggauss` we are integrating with\nresepect to the uniform PDF.\n\n"
      ]
    },
    {
      "cell_type": "markdown",
      "metadata": {},
      "source": [
        "The function is also capable of generating rules on different intervals\nFor example\n\n"
      ]
    },
    {
      "cell_type": "code",
      "execution_count": null,
      "metadata": {
        "collapsed": false
      },
      "outputs": [],
      "source": [
        "scipy_var = stats.uniform(0, 2)\nx_quad, w_quad = surrogates.get_gauss_quadrature_rule_from_marginal(\n    scipy_var, degree+1)(degree)\nvalues = x_quad**2\nintegral = values.dot(w_quad)\nprint(integral)"
      ]
    },
    {
      "cell_type": "markdown",
      "metadata": {},
      "source": [
        "Quadrature rules can be created for almost any random variable. Here\nwe will generate a quadrature rule for an exponential random variable\n\n"
      ]
    },
    {
      "cell_type": "code",
      "execution_count": null,
      "metadata": {
        "collapsed": false
      },
      "outputs": [],
      "source": [
        "scipy_var = stats.expon()\nx_quad, w_quad = surrogates.get_gauss_quadrature_rule_from_marginal(\n    scipy_var, degree+1)(degree)\nvalues = x_quad**2\nintegral = values.dot(w_quad)\nprint(integral)"
      ]
    },
    {
      "cell_type": "markdown",
      "metadata": {},
      "source": [
        "For interest, we plot the quadrature rule against the PDF of the exponential\nvariable\n\n"
      ]
    },
    {
      "cell_type": "code",
      "execution_count": null,
      "metadata": {
        "collapsed": false
      },
      "outputs": [],
      "source": [
        "import numpy as np\nimport matplotlib.pyplot as plt\nfrom pyapprox.analysis import visualize\nfrom pyapprox.variables import marginals\nvisualize.plot_discrete_measure_1d(x_quad, w_quad)\nvrange = marginals.get_truncated_range(scipy_var, 1-1e-6)\nxx = np.linspace(vrange[0], vrange[1], 101)\nplt.fill_between(xx, 0*xx, scipy_var.pdf(xx), alpha=0.3)\nplt.show()"
      ]
    }
  ],
  "metadata": {
    "kernelspec": {
      "display_name": "Python 3",
      "language": "python",
      "name": "python3"
    },
    "language_info": {
      "codemirror_mode": {
        "name": "ipython",
        "version": 3
      },
      "file_extension": ".py",
      "mimetype": "text/x-python",
      "name": "python",
      "nbconvert_exporter": "python",
      "pygments_lexer": "ipython3",
      "version": "3.10.13"
    }
  },
  "nbformat": 4,
  "nbformat_minor": 0
}