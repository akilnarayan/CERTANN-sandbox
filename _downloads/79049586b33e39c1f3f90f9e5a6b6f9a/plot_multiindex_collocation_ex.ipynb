{
  "cells": [
    {
      "cell_type": "markdown",
      "metadata": {},
      "source": [
        "Add latex macros$$\\newcommand{\\V}[1]{{\\boldsymbol{#1}}}\\newcommand{mean}[1]{{\\mathbb{E}\\left[#1\\right]}}\\newcommand{var}[1]{{\\mathbb{V}\\left[#1\\right]}}\\newcommand{covar}[2]{\\mathbb{C}\\text{ov}\\left[#1,#2\\right]}\\newcommand{corr}[2]{\\mathbb{C}\\text{or}\\left[#1,#2\\right]}\\newcommand{argmin}{\\mathrm{argmin}}\\def\\rv{z}\\def\\reals{\\mathbb{R}}\\def\\rvset{{\\mathcal{Z}}}\\def\\pdf{\\rho}\\def\\rvdom{\\Gamma}\\def\\coloneqq{\\colon=}\\newcommand{norm}{\\lVert #1 \\rVert}\\def\\argmax{\\operatorname{argmax}}\\def\\ai{\\alpha}\\def\\bi{\\beta}\\newcommand{\\dx}[1]{\\;\\text{d}#1}\\newcommand{\\mat}[1]{{\\boldsymbol{\\mathrm{#1}}}}$$"
      ]
    },
    {
      "cell_type": "markdown",
      "metadata": {},
      "source": [
        "\n# Multi-index Collocation\nThe following provides an example of how to use multivariate quadrature, e.g. multilevel Monte Carlo, control variates to estimate the mean of a high-fidelity model from an ensemble of related models of varying cost and accuracy. Refer to `sphx_glr_auto_tutorials_multi_fidelity_plot_multiindex_collocation.py` for a detailed tutorial on the theory behind multi-index collocation.\n"
      ]
    },
    {
      "cell_type": "markdown",
      "metadata": {},
      "source": [
        "Load the necessary modules\n\n"
      ]
    },
    {
      "cell_type": "code",
      "execution_count": null,
      "metadata": {
        "collapsed": false
      },
      "outputs": [],
      "source": [
        "from scipy import stats\nimport numpy as np\nimport matplotlib.pyplot as plt\nfrom functools import partial\nfrom pyapprox.benchmarks.benchmarks import setup_benchmark\nfrom pyapprox import interface, variables, surrogates\n# set seed for reproducibility\nnp.random.seed(1)"
      ]
    },
    {
      "cell_type": "markdown",
      "metadata": {},
      "source": [
        "Set up a :py:class:`~pyapprox.interface.wrappers.MultiIndexModel` that takes samples $x=[z_1,\\ldots,z_D,v_1,\\ldots, v_C]$ which is the concatenation of a random sample `z` and configuration values specifying the discretization parameters of the numerical model.\n\n"
      ]
    },
    {
      "cell_type": "code",
      "execution_count": null,
      "metadata": {
        "collapsed": false
      },
      "outputs": [],
      "source": [
        "marginals = [stats.uniform(-2, 3)]\nvariable = variables.IndependentMarginalsVariable(marginals)\n\n\ndef fun(eps, zz):\n    return np.cos(np.pi*(zz[0]+1)+eps)[:, None]\n\n\ndef setup_fun(eps):\n    return partial(fun, eps)\n\n\nconfig_values = [np.asarray([0.25, 0.125, 0])]\nmodel = interface.MultiIndexModel(setup_fun, config_values)"
      ]
    },
    {
      "cell_type": "markdown",
      "metadata": {},
      "source": [
        "Now set up and run the multi-index algorithm\n\n"
      ]
    },
    {
      "cell_type": "code",
      "execution_count": null,
      "metadata": {
        "collapsed": false
      },
      "outputs": [],
      "source": [
        "config_var_trans = variables.ConfigureVariableTransformation(config_values)\nmi_result = surrogates.adaptive_approximate(\n    model, variable, \"sparse_grid\",\n    {\"max_nsamples\": 20, \"config_var_trans\": config_var_trans,\n     \"max_level_1d\": ([np.inf for ii in range(variable.num_vars())] +\n                      [len(cv)-1 for cv in config_var_trans.config_values]),\n     \"config_variables_idx\": variable.num_vars(),\n     \"cost_function\": lambda config_sample: 2**config_sample[0],\n     \"tol\": 1e-3, \"verbose\": 1})\nmi_approx = mi_result.approx"
      ]
    },
    {
      "cell_type": "markdown",
      "metadata": {},
      "source": [
        "The following can be used to plot the approximation and high-fidelity target function if there is only one random variable z and one configuration variable\n\n"
      ]
    },
    {
      "cell_type": "code",
      "execution_count": null,
      "metadata": {
        "collapsed": false
      },
      "outputs": [],
      "source": [
        "ax = plt.subplots()[1]\nzz = np.linspace(*variable.get_statistics(\"interval\", 1.0)[0], 101)[None, :]\nax.plot(zz[0], mi_approx(zz), label=\"MF\")\nax.plot(zz[0], fun(0, zz), label='HF')\nmi_zz_samples = mi_approx.var_trans.map_from_canonical(\n    mi_approx.samples[:variable.num_vars()])\nfor ii in range(config_var_trans.config_values[0].shape[0]):\n    II = np.where(mi_approx.samples[-1, :] == ii)[0]\n    ax.plot(mi_zz_samples[0, II], mi_approx.values[II, 0], 'o',\n            label=r\"$f_{0}$\".format(ii+1))\nax.legend()\nplt.show()"
      ]
    }
  ],
  "metadata": {
    "kernelspec": {
      "display_name": "Python 3",
      "language": "python",
      "name": "python3"
    },
    "language_info": {
      "codemirror_mode": {
        "name": "ipython",
        "version": 3
      },
      "file_extension": ".py",
      "mimetype": "text/x-python",
      "name": "python",
      "nbconvert_exporter": "python",
      "pygments_lexer": "ipython3",
      "version": "3.10.13"
    }
  },
  "nbformat": 4,
  "nbformat_minor": 0
}